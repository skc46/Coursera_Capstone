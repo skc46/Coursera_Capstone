{
 "cells": [
  {
   "cell_type": "markdown",
   "metadata": {},
   "source": [
    "This notebook will be used for capstone project for Applied Data Science Capstone course. "
   ]
  },
  {
   "cell_type": "code",
   "execution_count": 1,
   "metadata": {},
   "outputs": [
    {
     "name": "stdout",
     "output_type": "stream",
     "text": [
      "Hello Capstone Project Course!\n"
     ]
    }
   ],
   "source": [
    "import pandas as pd\n",
    "import numpy as np\n",
    "import matplotlib.pyplot as plt\n",
    "print('Hello Capstone Project Course!')\n"
   ]
  },
  {
   "cell_type": "code",
   "execution_count": 2,
   "metadata": {},
   "outputs": [
    {
     "data": {
      "text/html": [
       "<div>\n",
       "<style scoped>\n",
       "    .dataframe tbody tr th:only-of-type {\n",
       "        vertical-align: middle;\n",
       "    }\n",
       "\n",
       "    .dataframe tbody tr th {\n",
       "        vertical-align: top;\n",
       "    }\n",
       "\n",
       "    .dataframe thead th {\n",
       "        text-align: right;\n",
       "    }\n",
       "</style>\n",
       "<table border=\"1\" class=\"dataframe\">\n",
       "  <thead>\n",
       "    <tr style=\"text-align: right;\">\n",
       "      <th></th>\n",
       "      <th>ID</th>\n",
       "      <th>Source</th>\n",
       "      <th>TMC</th>\n",
       "      <th>Severity</th>\n",
       "      <th>Start_Time</th>\n",
       "      <th>End_Time</th>\n",
       "      <th>Start_Lat</th>\n",
       "      <th>Start_Lng</th>\n",
       "      <th>End_Lat</th>\n",
       "      <th>End_Lng</th>\n",
       "      <th>...</th>\n",
       "      <th>Roundabout</th>\n",
       "      <th>Station</th>\n",
       "      <th>Stop</th>\n",
       "      <th>Traffic_Calming</th>\n",
       "      <th>Traffic_Signal</th>\n",
       "      <th>Turning_Loop</th>\n",
       "      <th>Sunrise_Sunset</th>\n",
       "      <th>Civil_Twilight</th>\n",
       "      <th>Nautical_Twilight</th>\n",
       "      <th>Astronomical_Twilight</th>\n",
       "    </tr>\n",
       "  </thead>\n",
       "  <tbody>\n",
       "    <tr>\n",
       "      <th>0</th>\n",
       "      <td>A-1</td>\n",
       "      <td>MapQuest</td>\n",
       "      <td>201.0</td>\n",
       "      <td>3</td>\n",
       "      <td>2016-02-08 05:46:00</td>\n",
       "      <td>2016-02-08 11:00:00</td>\n",
       "      <td>39.865147</td>\n",
       "      <td>-84.058723</td>\n",
       "      <td>NaN</td>\n",
       "      <td>NaN</td>\n",
       "      <td>...</td>\n",
       "      <td>False</td>\n",
       "      <td>False</td>\n",
       "      <td>False</td>\n",
       "      <td>False</td>\n",
       "      <td>False</td>\n",
       "      <td>False</td>\n",
       "      <td>Night</td>\n",
       "      <td>Night</td>\n",
       "      <td>Night</td>\n",
       "      <td>Night</td>\n",
       "    </tr>\n",
       "    <tr>\n",
       "      <th>1</th>\n",
       "      <td>A-2</td>\n",
       "      <td>MapQuest</td>\n",
       "      <td>201.0</td>\n",
       "      <td>2</td>\n",
       "      <td>2016-02-08 06:07:59</td>\n",
       "      <td>2016-02-08 06:37:59</td>\n",
       "      <td>39.928059</td>\n",
       "      <td>-82.831184</td>\n",
       "      <td>NaN</td>\n",
       "      <td>NaN</td>\n",
       "      <td>...</td>\n",
       "      <td>False</td>\n",
       "      <td>False</td>\n",
       "      <td>False</td>\n",
       "      <td>False</td>\n",
       "      <td>False</td>\n",
       "      <td>False</td>\n",
       "      <td>Night</td>\n",
       "      <td>Night</td>\n",
       "      <td>Night</td>\n",
       "      <td>Day</td>\n",
       "    </tr>\n",
       "    <tr>\n",
       "      <th>2</th>\n",
       "      <td>A-3</td>\n",
       "      <td>MapQuest</td>\n",
       "      <td>201.0</td>\n",
       "      <td>2</td>\n",
       "      <td>2016-02-08 06:49:27</td>\n",
       "      <td>2016-02-08 07:19:27</td>\n",
       "      <td>39.063148</td>\n",
       "      <td>-84.032608</td>\n",
       "      <td>NaN</td>\n",
       "      <td>NaN</td>\n",
       "      <td>...</td>\n",
       "      <td>False</td>\n",
       "      <td>False</td>\n",
       "      <td>False</td>\n",
       "      <td>False</td>\n",
       "      <td>True</td>\n",
       "      <td>False</td>\n",
       "      <td>Night</td>\n",
       "      <td>Night</td>\n",
       "      <td>Day</td>\n",
       "      <td>Day</td>\n",
       "    </tr>\n",
       "    <tr>\n",
       "      <th>3</th>\n",
       "      <td>A-4</td>\n",
       "      <td>MapQuest</td>\n",
       "      <td>201.0</td>\n",
       "      <td>3</td>\n",
       "      <td>2016-02-08 07:23:34</td>\n",
       "      <td>2016-02-08 07:53:34</td>\n",
       "      <td>39.747753</td>\n",
       "      <td>-84.205582</td>\n",
       "      <td>NaN</td>\n",
       "      <td>NaN</td>\n",
       "      <td>...</td>\n",
       "      <td>False</td>\n",
       "      <td>False</td>\n",
       "      <td>False</td>\n",
       "      <td>False</td>\n",
       "      <td>False</td>\n",
       "      <td>False</td>\n",
       "      <td>Night</td>\n",
       "      <td>Day</td>\n",
       "      <td>Day</td>\n",
       "      <td>Day</td>\n",
       "    </tr>\n",
       "    <tr>\n",
       "      <th>4</th>\n",
       "      <td>A-5</td>\n",
       "      <td>MapQuest</td>\n",
       "      <td>201.0</td>\n",
       "      <td>2</td>\n",
       "      <td>2016-02-08 07:39:07</td>\n",
       "      <td>2016-02-08 08:09:07</td>\n",
       "      <td>39.627781</td>\n",
       "      <td>-84.188354</td>\n",
       "      <td>NaN</td>\n",
       "      <td>NaN</td>\n",
       "      <td>...</td>\n",
       "      <td>False</td>\n",
       "      <td>False</td>\n",
       "      <td>False</td>\n",
       "      <td>False</td>\n",
       "      <td>True</td>\n",
       "      <td>False</td>\n",
       "      <td>Day</td>\n",
       "      <td>Day</td>\n",
       "      <td>Day</td>\n",
       "      <td>Day</td>\n",
       "    </tr>\n",
       "  </tbody>\n",
       "</table>\n",
       "<p>5 rows × 49 columns</p>\n",
       "</div>"
      ],
      "text/plain": [
       "    ID    Source    TMC  Severity           Start_Time             End_Time  \\\n",
       "0  A-1  MapQuest  201.0         3  2016-02-08 05:46:00  2016-02-08 11:00:00   \n",
       "1  A-2  MapQuest  201.0         2  2016-02-08 06:07:59  2016-02-08 06:37:59   \n",
       "2  A-3  MapQuest  201.0         2  2016-02-08 06:49:27  2016-02-08 07:19:27   \n",
       "3  A-4  MapQuest  201.0         3  2016-02-08 07:23:34  2016-02-08 07:53:34   \n",
       "4  A-5  MapQuest  201.0         2  2016-02-08 07:39:07  2016-02-08 08:09:07   \n",
       "\n",
       "   Start_Lat  Start_Lng  End_Lat  End_Lng  ...  Roundabout Station   Stop  \\\n",
       "0  39.865147 -84.058723      NaN      NaN  ...       False   False  False   \n",
       "1  39.928059 -82.831184      NaN      NaN  ...       False   False  False   \n",
       "2  39.063148 -84.032608      NaN      NaN  ...       False   False  False   \n",
       "3  39.747753 -84.205582      NaN      NaN  ...       False   False  False   \n",
       "4  39.627781 -84.188354      NaN      NaN  ...       False   False  False   \n",
       "\n",
       "  Traffic_Calming Traffic_Signal Turning_Loop Sunrise_Sunset Civil_Twilight  \\\n",
       "0           False          False        False          Night          Night   \n",
       "1           False          False        False          Night          Night   \n",
       "2           False           True        False          Night          Night   \n",
       "3           False          False        False          Night            Day   \n",
       "4           False           True        False            Day            Day   \n",
       "\n",
       "  Nautical_Twilight Astronomical_Twilight  \n",
       "0             Night                 Night  \n",
       "1             Night                   Day  \n",
       "2               Day                   Day  \n",
       "3               Day                   Day  \n",
       "4               Day                   Day  \n",
       "\n",
       "[5 rows x 49 columns]"
      ]
     },
     "execution_count": 2,
     "metadata": {},
     "output_type": "execute_result"
    }
   ],
   "source": [
    "df = pd.read_csv('./Downloads/199387_1319582_compressed_US_Accidents_June20.csv/US_Accidents_June20.csv')\n",
    "df.head()"
   ]
  },
  {
   "cell_type": "code",
   "execution_count": 111,
   "metadata": {},
   "outputs": [
    {
     "data": {
      "text/plain": [
       "Index(['ID', 'Severity', 'Start_Time', 'End_Time', 'Start_Lat', 'Start_Lng',\n",
       "       'Distance(mi)', 'Street', 'Side', 'City', 'County', 'State', 'Zipcode',\n",
       "       'Country', 'Timezone', 'Temperature(F)', 'Visibility(mi)',\n",
       "       'Wind_Speed(mph)', 'Precipitation(in)', 'Weather_Condition', 'Crossing',\n",
       "       'Junction', 'Roundabout', 'Traffic_Signal', 'Turning_Loop',\n",
       "       'Sunrise_Sunset', 'Amenity', 'Railway', 'Stop', 'Station', 'Give_Way',\n",
       "       'Delay(hrs)', 'Day_Of_Week', 'Day_Name', 'Time',\n",
       "       'Mean Precipitation(in)'],\n",
       "      dtype='object')"
      ]
     },
     "execution_count": 111,
     "metadata": {},
     "output_type": "execute_result"
    }
   ],
   "source": [
    "df.columns"
   ]
  },
  {
   "cell_type": "code",
   "execution_count": 3,
   "metadata": {},
   "outputs": [
    {
     "data": {
      "text/plain": [
       "(3513617, 49)"
      ]
     },
     "execution_count": 3,
     "metadata": {},
     "output_type": "execute_result"
    }
   ],
   "source": [
    "df.shape"
   ]
  },
  {
   "cell_type": "markdown",
   "metadata": {},
   "source": [
    "#### Data Cleaning\n",
    "\n",
    "Let's only keep the columns that we are intersted."
   ]
  },
  {
   "cell_type": "code",
   "execution_count": 3,
   "metadata": {},
   "outputs": [
    {
     "data": {
      "text/plain": [
       "(3513617, 32)"
      ]
     },
     "execution_count": 3,
     "metadata": {},
     "output_type": "execute_result"
    }
   ],
   "source": [
    "columns_to_keep = ['ID', 'Severity', 'Start_Time', 'End_Time',\n",
    "       'Start_Lat', 'Start_Lng', 'Distance(mi)',\n",
    "       'Street', 'Side', 'City', 'County', 'State',\n",
    "       'Zipcode', 'Country', 'Timezone',\n",
    "       'Temperature(F)',\n",
    "       'Visibility(mi)', 'Wind_Chill(F)','Wind_Speed(mph)',\n",
    "       'Precipitation(in)', 'Weather_Condition','Crossing',\n",
    "       'Junction', 'Roundabout',\n",
    "       'Traffic_Signal', 'Turning_Loop',\n",
    "       'Sunrise_Sunset', 'Amenity','Railway','Stop','Station', 'Give_Way']\n",
    "\n",
    "df = df[columns_to_keep]\n",
    "df.shape"
   ]
  },
  {
   "cell_type": "code",
   "execution_count": 4,
   "metadata": {
    "scrolled": true
   },
   "outputs": [
    {
     "data": {
      "text/html": [
       "<div>\n",
       "<style scoped>\n",
       "    .dataframe tbody tr th:only-of-type {\n",
       "        vertical-align: middle;\n",
       "    }\n",
       "\n",
       "    .dataframe tbody tr th {\n",
       "        vertical-align: top;\n",
       "    }\n",
       "\n",
       "    .dataframe thead th {\n",
       "        text-align: right;\n",
       "    }\n",
       "</style>\n",
       "<table border=\"1\" class=\"dataframe\">\n",
       "  <thead>\n",
       "    <tr style=\"text-align: right;\">\n",
       "      <th></th>\n",
       "      <th>ID</th>\n",
       "      <th>Severity</th>\n",
       "      <th>Start_Time</th>\n",
       "      <th>End_Time</th>\n",
       "      <th>Start_Lat</th>\n",
       "      <th>Start_Lng</th>\n",
       "      <th>Distance(mi)</th>\n",
       "      <th>Street</th>\n",
       "      <th>Side</th>\n",
       "      <th>City</th>\n",
       "      <th>...</th>\n",
       "      <th>Roundabout</th>\n",
       "      <th>Traffic_Signal</th>\n",
       "      <th>Turning_Loop</th>\n",
       "      <th>Sunrise_Sunset</th>\n",
       "      <th>Amenity</th>\n",
       "      <th>Railway</th>\n",
       "      <th>Stop</th>\n",
       "      <th>Station</th>\n",
       "      <th>Give_Way</th>\n",
       "      <th>Delay(hrs)</th>\n",
       "    </tr>\n",
       "  </thead>\n",
       "  <tbody>\n",
       "    <tr>\n",
       "      <th>0</th>\n",
       "      <td>A-1</td>\n",
       "      <td>3</td>\n",
       "      <td>2016-02-08 05:46:00</td>\n",
       "      <td>2016-02-08 11:00:00</td>\n",
       "      <td>39.865147</td>\n",
       "      <td>-84.058723</td>\n",
       "      <td>0.01</td>\n",
       "      <td>I-70 E</td>\n",
       "      <td>R</td>\n",
       "      <td>Dayton</td>\n",
       "      <td>...</td>\n",
       "      <td>False</td>\n",
       "      <td>False</td>\n",
       "      <td>False</td>\n",
       "      <td>Night</td>\n",
       "      <td>False</td>\n",
       "      <td>False</td>\n",
       "      <td>False</td>\n",
       "      <td>False</td>\n",
       "      <td>False</td>\n",
       "      <td>5.233333</td>\n",
       "    </tr>\n",
       "    <tr>\n",
       "      <th>1</th>\n",
       "      <td>A-2</td>\n",
       "      <td>2</td>\n",
       "      <td>2016-02-08 06:07:59</td>\n",
       "      <td>2016-02-08 06:37:59</td>\n",
       "      <td>39.928059</td>\n",
       "      <td>-82.831184</td>\n",
       "      <td>0.01</td>\n",
       "      <td>Brice Rd</td>\n",
       "      <td>L</td>\n",
       "      <td>Reynoldsburg</td>\n",
       "      <td>...</td>\n",
       "      <td>False</td>\n",
       "      <td>False</td>\n",
       "      <td>False</td>\n",
       "      <td>Night</td>\n",
       "      <td>False</td>\n",
       "      <td>False</td>\n",
       "      <td>False</td>\n",
       "      <td>False</td>\n",
       "      <td>False</td>\n",
       "      <td>0.500000</td>\n",
       "    </tr>\n",
       "    <tr>\n",
       "      <th>2</th>\n",
       "      <td>A-3</td>\n",
       "      <td>2</td>\n",
       "      <td>2016-02-08 06:49:27</td>\n",
       "      <td>2016-02-08 07:19:27</td>\n",
       "      <td>39.063148</td>\n",
       "      <td>-84.032608</td>\n",
       "      <td>0.01</td>\n",
       "      <td>State Route 32</td>\n",
       "      <td>R</td>\n",
       "      <td>Williamsburg</td>\n",
       "      <td>...</td>\n",
       "      <td>False</td>\n",
       "      <td>True</td>\n",
       "      <td>False</td>\n",
       "      <td>Night</td>\n",
       "      <td>False</td>\n",
       "      <td>False</td>\n",
       "      <td>False</td>\n",
       "      <td>False</td>\n",
       "      <td>False</td>\n",
       "      <td>0.500000</td>\n",
       "    </tr>\n",
       "    <tr>\n",
       "      <th>3</th>\n",
       "      <td>A-4</td>\n",
       "      <td>3</td>\n",
       "      <td>2016-02-08 07:23:34</td>\n",
       "      <td>2016-02-08 07:53:34</td>\n",
       "      <td>39.747753</td>\n",
       "      <td>-84.205582</td>\n",
       "      <td>0.01</td>\n",
       "      <td>I-75 S</td>\n",
       "      <td>R</td>\n",
       "      <td>Dayton</td>\n",
       "      <td>...</td>\n",
       "      <td>False</td>\n",
       "      <td>False</td>\n",
       "      <td>False</td>\n",
       "      <td>Night</td>\n",
       "      <td>False</td>\n",
       "      <td>False</td>\n",
       "      <td>False</td>\n",
       "      <td>False</td>\n",
       "      <td>False</td>\n",
       "      <td>0.500000</td>\n",
       "    </tr>\n",
       "    <tr>\n",
       "      <th>4</th>\n",
       "      <td>A-5</td>\n",
       "      <td>2</td>\n",
       "      <td>2016-02-08 07:39:07</td>\n",
       "      <td>2016-02-08 08:09:07</td>\n",
       "      <td>39.627781</td>\n",
       "      <td>-84.188354</td>\n",
       "      <td>0.01</td>\n",
       "      <td>Miamisburg Centerville Rd</td>\n",
       "      <td>R</td>\n",
       "      <td>Dayton</td>\n",
       "      <td>...</td>\n",
       "      <td>False</td>\n",
       "      <td>True</td>\n",
       "      <td>False</td>\n",
       "      <td>Day</td>\n",
       "      <td>False</td>\n",
       "      <td>False</td>\n",
       "      <td>False</td>\n",
       "      <td>False</td>\n",
       "      <td>False</td>\n",
       "      <td>0.500000</td>\n",
       "    </tr>\n",
       "    <tr>\n",
       "      <th>5</th>\n",
       "      <td>A-6</td>\n",
       "      <td>3</td>\n",
       "      <td>2016-02-08 07:44:26</td>\n",
       "      <td>2016-02-08 08:14:26</td>\n",
       "      <td>40.100590</td>\n",
       "      <td>-82.925194</td>\n",
       "      <td>0.01</td>\n",
       "      <td>Westerville Rd</td>\n",
       "      <td>R</td>\n",
       "      <td>Westerville</td>\n",
       "      <td>...</td>\n",
       "      <td>False</td>\n",
       "      <td>False</td>\n",
       "      <td>False</td>\n",
       "      <td>Day</td>\n",
       "      <td>False</td>\n",
       "      <td>False</td>\n",
       "      <td>False</td>\n",
       "      <td>False</td>\n",
       "      <td>False</td>\n",
       "      <td>0.500000</td>\n",
       "    </tr>\n",
       "    <tr>\n",
       "      <th>6</th>\n",
       "      <td>A-7</td>\n",
       "      <td>2</td>\n",
       "      <td>2016-02-08 07:59:35</td>\n",
       "      <td>2016-02-08 08:29:35</td>\n",
       "      <td>39.758274</td>\n",
       "      <td>-84.230507</td>\n",
       "      <td>0.00</td>\n",
       "      <td>N Woodward Ave</td>\n",
       "      <td>R</td>\n",
       "      <td>Dayton</td>\n",
       "      <td>...</td>\n",
       "      <td>False</td>\n",
       "      <td>False</td>\n",
       "      <td>False</td>\n",
       "      <td>Day</td>\n",
       "      <td>False</td>\n",
       "      <td>False</td>\n",
       "      <td>False</td>\n",
       "      <td>False</td>\n",
       "      <td>False</td>\n",
       "      <td>0.500000</td>\n",
       "    </tr>\n",
       "    <tr>\n",
       "      <th>7</th>\n",
       "      <td>A-8</td>\n",
       "      <td>3</td>\n",
       "      <td>2016-02-08 07:59:58</td>\n",
       "      <td>2016-02-08 08:29:58</td>\n",
       "      <td>39.770382</td>\n",
       "      <td>-84.194901</td>\n",
       "      <td>0.01</td>\n",
       "      <td>N Main St</td>\n",
       "      <td>R</td>\n",
       "      <td>Dayton</td>\n",
       "      <td>...</td>\n",
       "      <td>False</td>\n",
       "      <td>False</td>\n",
       "      <td>False</td>\n",
       "      <td>Day</td>\n",
       "      <td>False</td>\n",
       "      <td>False</td>\n",
       "      <td>False</td>\n",
       "      <td>False</td>\n",
       "      <td>False</td>\n",
       "      <td>0.500000</td>\n",
       "    </tr>\n",
       "    <tr>\n",
       "      <th>8</th>\n",
       "      <td>A-9</td>\n",
       "      <td>2</td>\n",
       "      <td>2016-02-08 08:00:40</td>\n",
       "      <td>2016-02-08 08:30:40</td>\n",
       "      <td>39.778061</td>\n",
       "      <td>-84.172005</td>\n",
       "      <td>0.00</td>\n",
       "      <td>Notre Dame Ave</td>\n",
       "      <td>L</td>\n",
       "      <td>Dayton</td>\n",
       "      <td>...</td>\n",
       "      <td>False</td>\n",
       "      <td>False</td>\n",
       "      <td>False</td>\n",
       "      <td>Day</td>\n",
       "      <td>False</td>\n",
       "      <td>False</td>\n",
       "      <td>False</td>\n",
       "      <td>False</td>\n",
       "      <td>False</td>\n",
       "      <td>0.500000</td>\n",
       "    </tr>\n",
       "    <tr>\n",
       "      <th>9</th>\n",
       "      <td>A-10</td>\n",
       "      <td>3</td>\n",
       "      <td>2016-02-08 08:10:04</td>\n",
       "      <td>2016-02-08 08:40:04</td>\n",
       "      <td>40.100590</td>\n",
       "      <td>-82.925194</td>\n",
       "      <td>0.01</td>\n",
       "      <td>Westerville Rd</td>\n",
       "      <td>R</td>\n",
       "      <td>Westerville</td>\n",
       "      <td>...</td>\n",
       "      <td>False</td>\n",
       "      <td>False</td>\n",
       "      <td>False</td>\n",
       "      <td>Day</td>\n",
       "      <td>False</td>\n",
       "      <td>False</td>\n",
       "      <td>False</td>\n",
       "      <td>False</td>\n",
       "      <td>False</td>\n",
       "      <td>0.500000</td>\n",
       "    </tr>\n",
       "  </tbody>\n",
       "</table>\n",
       "<p>10 rows × 33 columns</p>\n",
       "</div>"
      ],
      "text/plain": [
       "     ID  Severity          Start_Time            End_Time  Start_Lat  \\\n",
       "0   A-1         3 2016-02-08 05:46:00 2016-02-08 11:00:00  39.865147   \n",
       "1   A-2         2 2016-02-08 06:07:59 2016-02-08 06:37:59  39.928059   \n",
       "2   A-3         2 2016-02-08 06:49:27 2016-02-08 07:19:27  39.063148   \n",
       "3   A-4         3 2016-02-08 07:23:34 2016-02-08 07:53:34  39.747753   \n",
       "4   A-5         2 2016-02-08 07:39:07 2016-02-08 08:09:07  39.627781   \n",
       "5   A-6         3 2016-02-08 07:44:26 2016-02-08 08:14:26  40.100590   \n",
       "6   A-7         2 2016-02-08 07:59:35 2016-02-08 08:29:35  39.758274   \n",
       "7   A-8         3 2016-02-08 07:59:58 2016-02-08 08:29:58  39.770382   \n",
       "8   A-9         2 2016-02-08 08:00:40 2016-02-08 08:30:40  39.778061   \n",
       "9  A-10         3 2016-02-08 08:10:04 2016-02-08 08:40:04  40.100590   \n",
       "\n",
       "   Start_Lng  Distance(mi)                     Street Side          City  ...  \\\n",
       "0 -84.058723          0.01                     I-70 E    R        Dayton  ...   \n",
       "1 -82.831184          0.01                   Brice Rd    L  Reynoldsburg  ...   \n",
       "2 -84.032608          0.01             State Route 32    R  Williamsburg  ...   \n",
       "3 -84.205582          0.01                     I-75 S    R        Dayton  ...   \n",
       "4 -84.188354          0.01  Miamisburg Centerville Rd    R        Dayton  ...   \n",
       "5 -82.925194          0.01             Westerville Rd    R   Westerville  ...   \n",
       "6 -84.230507          0.00             N Woodward Ave    R        Dayton  ...   \n",
       "7 -84.194901          0.01                  N Main St    R        Dayton  ...   \n",
       "8 -84.172005          0.00             Notre Dame Ave    L        Dayton  ...   \n",
       "9 -82.925194          0.01             Westerville Rd    R   Westerville  ...   \n",
       "\n",
       "  Roundabout Traffic_Signal Turning_Loop Sunrise_Sunset Amenity  Railway  \\\n",
       "0      False          False        False          Night   False    False   \n",
       "1      False          False        False          Night   False    False   \n",
       "2      False           True        False          Night   False    False   \n",
       "3      False          False        False          Night   False    False   \n",
       "4      False           True        False            Day   False    False   \n",
       "5      False          False        False            Day   False    False   \n",
       "6      False          False        False            Day   False    False   \n",
       "7      False          False        False            Day   False    False   \n",
       "8      False          False        False            Day   False    False   \n",
       "9      False          False        False            Day   False    False   \n",
       "\n",
       "    Stop  Station  Give_Way  Delay(hrs)  \n",
       "0  False    False     False    5.233333  \n",
       "1  False    False     False    0.500000  \n",
       "2  False    False     False    0.500000  \n",
       "3  False    False     False    0.500000  \n",
       "4  False    False     False    0.500000  \n",
       "5  False    False     False    0.500000  \n",
       "6  False    False     False    0.500000  \n",
       "7  False    False     False    0.500000  \n",
       "8  False    False     False    0.500000  \n",
       "9  False    False     False    0.500000  \n",
       "\n",
       "[10 rows x 33 columns]"
      ]
     },
     "execution_count": 4,
     "metadata": {},
     "output_type": "execute_result"
    }
   ],
   "source": [
    "# to find the actual delay in terms of hours\n",
    "df['Start_Time'] = pd.to_datetime(df['Start_Time'], format = \"%Y/%m/%d %H:%M:%S\")\n",
    "df['End_Time'] = pd.to_datetime(df['End_Time'], format = \"%Y/%m/%d %H:%M:%S\")\n",
    "df['Delay(hrs)'] = (df['End_Time'] - df['Start_Time'])/np.timedelta64(1, 'h')\n",
    "df.head(10)"
   ]
  },
  {
   "cell_type": "code",
   "execution_count": 12,
   "metadata": {},
   "outputs": [
    {
     "data": {
      "text/plain": [
       "5     Monday\n",
       "9     Monday\n",
       "11    Monday\n",
       "14    Monday\n",
       "20    Monday\n",
       "Name: Day_Name, dtype: object"
      ]
     },
     "execution_count": 12,
     "metadata": {},
     "output_type": "execute_result"
    }
   ],
   "source": [
    "# Let's get day of week\n",
    "df['Day_Of_Week'] = df['Start_Time'].dt.weekday\n",
    "df['Day_Name'] = df['Start_Time'].dt.day_name()\n",
    "df['Day_Name'].head()"
   ]
  },
  {
   "cell_type": "code",
   "execution_count": 13,
   "metadata": {},
   "outputs": [],
   "source": [
    "# Let's get time of the day\n",
    "df['Time'] = df['Start_Time'].dt.hour"
   ]
  },
  {
   "cell_type": "markdown",
   "metadata": {},
   "source": [
    "##### Dealing with missing values"
   ]
  },
  {
   "cell_type": "code",
   "execution_count": 51,
   "metadata": {
    "collapsed": true
   },
   "outputs": [
    {
     "name": "stdout",
     "output_type": "stream",
     "text": [
      "ID\n",
      "False    1282849\n",
      "Name: ID, dtype: int64\n",
      "\n",
      "Severity\n",
      "False    1282849\n",
      "Name: Severity, dtype: int64\n",
      "\n",
      "Start_Time\n",
      "False    1282849\n",
      "Name: Start_Time, dtype: int64\n",
      "\n",
      "End_Time\n",
      "False    1282849\n",
      "Name: End_Time, dtype: int64\n",
      "\n",
      "Start_Lat\n",
      "False    1282849\n",
      "Name: Start_Lat, dtype: int64\n",
      "\n",
      "Start_Lng\n",
      "False    1282849\n",
      "Name: Start_Lng, dtype: int64\n",
      "\n",
      "Distance(mi)\n",
      "False    1282849\n",
      "Name: Distance(mi), dtype: int64\n",
      "\n",
      "Street\n",
      "False    1282849\n",
      "Name: Street, dtype: int64\n",
      "\n",
      "Side\n",
      "False    1282849\n",
      "Name: Side, dtype: int64\n",
      "\n",
      "City\n",
      "False    1282849\n",
      "Name: City, dtype: int64\n",
      "\n",
      "County\n",
      "False    1282849\n",
      "Name: County, dtype: int64\n",
      "\n",
      "State\n",
      "False    1282849\n",
      "Name: State, dtype: int64\n",
      "\n",
      "Zipcode\n",
      "False    1282849\n",
      "Name: Zipcode, dtype: int64\n",
      "\n",
      "Country\n",
      "False    1282849\n",
      "Name: Country, dtype: int64\n",
      "\n",
      "Timezone\n",
      "False    1282849\n",
      "Name: Timezone, dtype: int64\n",
      "\n",
      "Temperature(F)\n",
      "False    1282849\n",
      "Name: Temperature(F), dtype: int64\n",
      "\n",
      "Visibility(mi)\n",
      "False    1282849\n",
      "Name: Visibility(mi), dtype: int64\n",
      "\n",
      "Wind_Chill(F)\n",
      "False    1282849\n",
      "Name: Wind_Chill(F), dtype: int64\n",
      "\n",
      "Wind_Speed(mph)\n",
      "False    1282849\n",
      "Name: Wind_Speed(mph), dtype: int64\n",
      "\n",
      "Precipitation(in)\n",
      "False    1282849\n",
      "Name: Precipitation(in), dtype: int64\n",
      "\n",
      "Weather_Condition\n",
      "False    1282849\n",
      "Name: Weather_Condition, dtype: int64\n",
      "\n",
      "Crossing\n",
      "False    1282849\n",
      "Name: Crossing, dtype: int64\n",
      "\n",
      "Junction\n",
      "False    1282849\n",
      "Name: Junction, dtype: int64\n",
      "\n",
      "Roundabout\n",
      "False    1282849\n",
      "Name: Roundabout, dtype: int64\n",
      "\n",
      "Traffic_Signal\n",
      "False    1282849\n",
      "Name: Traffic_Signal, dtype: int64\n",
      "\n",
      "Turning_Loop\n",
      "False    1282849\n",
      "Name: Turning_Loop, dtype: int64\n",
      "\n",
      "Sunrise_Sunset\n",
      "False    1282849\n",
      "Name: Sunrise_Sunset, dtype: int64\n",
      "\n",
      "Amenity\n",
      "False    1282849\n",
      "Name: Amenity, dtype: int64\n",
      "\n",
      "Railway\n",
      "False    1282849\n",
      "Name: Railway, dtype: int64\n",
      "\n",
      "Stop\n",
      "False    1282849\n",
      "Name: Stop, dtype: int64\n",
      "\n",
      "Station\n",
      "False    1282849\n",
      "Name: Station, dtype: int64\n",
      "\n",
      "Give_Way\n",
      "False    1282849\n",
      "Name: Give_Way, dtype: int64\n",
      "\n",
      "Delay(hrs)\n",
      "False    1282849\n",
      "Name: Delay(hrs), dtype: int64\n",
      "\n",
      "Day_Of_Week\n",
      "False    1282849\n",
      "Name: Day_Of_Week, dtype: int64\n",
      "\n",
      "Day_Name\n",
      "False    1282849\n",
      "Name: Day_Name, dtype: int64\n",
      "\n",
      "Time\n",
      "False    1282849\n",
      "Name: Time, dtype: int64\n",
      "\n"
     ]
    }
   ],
   "source": [
    "# Let's count the number of missing values in each columns\n",
    "missing_data = df.isnull()\n",
    "for column in missing_data.columns.values.tolist():\n",
    "    print(column)\n",
    "    print(missing_data[column].value_counts())\n",
    "    print(\"\")"
   ]
  },
  {
   "cell_type": "markdown",
   "metadata": {},
   "source": [
    "Since the __Precipitation__ column is missing 2,025,874 values, hence instead drop all rows we want to replace the missing values with mean."
   ]
  },
  {
   "cell_type": "code",
   "execution_count": 36,
   "metadata": {},
   "outputs": [],
   "source": [
    "average = df['Precipitation(in)'].astype('float').mean()\n",
    "df['Precipitation(in)'].replace(np.nan, average, inplace=True)"
   ]
  },
  {
   "cell_type": "code",
   "execution_count": 27,
   "metadata": {},
   "outputs": [],
   "source": [
    "average1 = df['Wind_Chill(F)'].astype('float').mean()\n",
    "df['Wind_Chill(F)'].replace(np.nan, average, inplace=True)"
   ]
  },
  {
   "cell_type": "markdown",
   "metadata": {},
   "source": [
    "For missing values among other columns, we simply drop the rows containing the missing values."
   ]
  },
  {
   "cell_type": "code",
   "execution_count": 6,
   "metadata": {
    "scrolled": true
   },
   "outputs": [
    {
     "data": {
      "text/plain": [
       "(1282849, 34)"
      ]
     },
     "execution_count": 6,
     "metadata": {},
     "output_type": "execute_result"
    }
   ],
   "source": [
    "df = df.dropna( axis = 0)\n",
    "df.shape"
   ]
  },
  {
   "cell_type": "markdown",
   "metadata": {},
   "source": [
    "##### Formatting the data"
   ]
  },
  {
   "cell_type": "code",
   "execution_count": 9,
   "metadata": {
    "scrolled": true
   },
   "outputs": [
    {
     "data": {
      "text/plain": [
       "ID                           object\n",
       "Severity                      int64\n",
       "Start_Time           datetime64[ns]\n",
       "End_Time             datetime64[ns]\n",
       "Start_Lat                   float64\n",
       "Start_Lng                   float64\n",
       "Distance(mi)                float64\n",
       "Street                       object\n",
       "Side                         object\n",
       "City                         object\n",
       "County                       object\n",
       "State                        object\n",
       "Zipcode                      object\n",
       "Country                      object\n",
       "Timezone                     object\n",
       "Temperature(F)              float64\n",
       "Visibility(mi)              float64\n",
       "Wind_Chill(F)               float64\n",
       "Wind_Speed(mph)             float64\n",
       "Precipitation(in)           float64\n",
       "Weather_Condition            object\n",
       "Crossing                       bool\n",
       "Junction                       bool\n",
       "Roundabout                     bool\n",
       "Traffic_Signal                 bool\n",
       "Turning_Loop                   bool\n",
       "Sunrise_Sunset               object\n",
       "Amenity                        bool\n",
       "Railway                        bool\n",
       "Stop                           bool\n",
       "Station                        bool\n",
       "Give_Way                       bool\n",
       "Delay(hrs)                  float64\n",
       "Day_Of_Week                   int64\n",
       "Day_Name                     object\n",
       "Time                          int64\n",
       "dtype: object"
      ]
     },
     "execution_count": 9,
     "metadata": {},
     "output_type": "execute_result"
    }
   ],
   "source": [
    "# checking the datatypes of each column\n",
    "df.dtypes"
   ]
  },
  {
   "cell_type": "markdown",
   "metadata": {},
   "source": [
    "We want to convert the boolean data into numerical values as; 1 for True and 0 for false"
   ]
  },
  {
   "cell_type": "code",
   "execution_count": 7,
   "metadata": {
    "scrolled": true
   },
   "outputs": [
    {
     "data": {
      "text/plain": [
       "(1282849, 34)"
      ]
     },
     "execution_count": 7,
     "metadata": {},
     "output_type": "execute_result"
    }
   ],
   "source": [
    "# Similarly let's assign 1 and 0 for columns containing boolean data\n",
    "df = df.replace([True, False], [1, 0])\n",
    "df.shape"
   ]
  },
  {
   "cell_type": "markdown",
   "metadata": {},
   "source": [
    "#### Data Visualization\n",
    "\n",
    "Let's start by visualizing total number of accidents in each category."
   ]
  },
  {
   "cell_type": "code",
   "execution_count": 9,
   "metadata": {},
   "outputs": [
    {
     "data": {
      "text/plain": [
       "<Figure size 432x288 with 0 Axes>"
      ]
     },
     "metadata": {},
     "output_type": "display_data"
    },
    {
     "data": {
      "image/png": "[encoded data removed]",
      "text/plain": [
       "<Figure size 432x288 with 1 Axes>"
      ]
     },
     "metadata": {
      "needs_background": "light"
     },
     "output_type": "display_data"
    }
   ],
   "source": [
    "fig = plt.figure()\n",
    "ax0 = df[['ID','Severity']].groupby('Severity').count().plot(kind='bar', color = '#5cb85c')\n",
    "# to display the total number of accidents above the bar\n",
    "for i in ax0.patches:\n",
    "    ax0.text(i.get_x(), i.get_height()+0.5, str((i.get_height())), fontsize=12)\n",
    "    \n",
    "ax0.set_ylabel('No. of Accidents') \n",
    "ax0.set_title('No. of Accidents based on Severity', fontsize = 14)\n",
    "ax0.legend('Count')\n",
    "plt.savefig('severity.png', bbox_inches='tight')   "
   ]
  },
  {
   "cell_type": "code",
   "execution_count": 54,
   "metadata": {},
   "outputs": [
    {
     "data": {
      "image/png": "[encoded data removed]",
      "text/plain": [
       "<Figure size 432x288 with 1 Axes>"
      ]
     },
     "metadata": {
      "needs_background": "light"
     },
     "output_type": "display_data"
    }
   ],
   "source": [
    "df[['ID', 'Severity', 'Day_Name']].groupby(['Day_Name','Severity']).count().unstack().plot(kind='bar', stacked=True)\n",
    "plt.legend([1,2,3,4])\n",
    "plt.ylabel('No. of Accidents')\n",
    "plt.xlabel('Day of Week')\n",
    "plt.title('Number and Severity of Accidents on a Week Day', fontsize = 14)\n",
    "plt.savefig('weekday.png', bbox_inches='tight')"
   ]
  },
  {
   "cell_type": "markdown",
   "metadata": {},
   "source": [
    "We see that number of accidents is typically higher on a weekday as compared to the weekends. This can be related to the number of vehicles on the road. Since, over the weekends, less vehicles use the road resulting in lesser accidents."
   ]
  },
  {
   "cell_type": "code",
   "execution_count": 59,
   "metadata": {},
   "outputs": [],
   "source": [
    "# Let's visualize where the maximum number of accidents is happening by using pie charts.\n",
    "# we are going to use different road conditions\n",
    "total = df[['Crossing',\n",
    "       'Junction',\n",
    "       'Traffic_Signal',\n",
    "        'Amenity','Railway','Stop','Station', 'Give_Way']].sum(axis=0)\n"
   ]
  },
  {
   "cell_type": "code",
   "execution_count": 60,
   "metadata": {},
   "outputs": [
    {
     "data": {
      "image/png": "[encoded data removed]",
      "text/plain": [
       "<Figure size 1080x432 with 1 Axes>"
      ]
     },
     "metadata": {},
     "output_type": "display_data"
    }
   ],
   "source": [
    "colors_list = ['magenta','gold', 'blue', 'lightcoral', 'lightskyblue', 'lightgreen', 'red', 'pink']\n",
    "explode_list = [0,0,0,0.1,0.1,0.1,0,0.1]\n",
    "total.plot(kind='pie', autopct='%1.1f%%', colors = colors_list,\n",
    "                        startangle=90, shadow= True,\n",
    "                        labels = None, pctdistance= 1.10,\n",
    "                        figsize = (15,6), explode= explode_list, fontsize=12)\n",
    "plt.title('No. of Accidents in proximity to traffic objects', fontsize = 15)\n",
    "plt.axis('equal')\n",
    "plt.legend(labels=['Crossing',\n",
    "       'Junction',\n",
    "       'Traffic_Signal',\n",
    "        'Amenity','Railway','Stop','Station', 'Give_Way'], loc ='upper left')\n",
    "plt.savefig('pie.png', bbox_inches='tight')"
   ]
  },
  {
   "cell_type": "code",
   "execution_count": 63,
   "metadata": {},
   "outputs": [
    {
     "data": {
      "image/png": "[encoded data removed]",
      "text/plain": [
       "<Figure size 432x288 with 1 Axes>"
      ]
     },
     "metadata": {
      "needs_background": "light"
     },
     "output_type": "display_data"
    }
   ],
   "source": [
    "df[['ID', 'Severity', 'Sunrise_Sunset']].groupby(['Sunrise_Sunset','Severity']).count().unstack().plot(kind='bar', stacked=True)\n",
    "plt.ylabel('No. of Accidents')\n",
    "plt.title('No. of Accidents (Day vs Night)', fontsize=14)\n",
    "plt.legend([1,2,3,4])\n",
    "plt.savefig('daynight.png', bbox_inches='tight')"
   ]
  },
  {
   "cell_type": "code",
   "execution_count": 64,
   "metadata": {},
   "outputs": [
    {
     "data": {
      "image/png": "[encoded data removed]",
      "text/plain": [
       "<Figure size 1080x720 with 1 Axes>"
      ]
     },
     "metadata": {
      "needs_background": "light"
     },
     "output_type": "display_data"
    }
   ],
   "source": [
    "df_group1 = df[['ID','Time']].groupby('Time').count()\n",
    "df_group1.plot(kind='line', figsize=(15,10), marker = 'o')\n",
    "plt.xlabel('Hour of the Day')\n",
    "plt.ylabel('No. of Accidents')\n",
    "plt.title('No. of Accidents by the Hour of the Day', fontsize =14)\n",
    "plt.xticks(np.arange(0, len(df['Time'].unique()), step = 1))\n",
    "for i,j in zip(df_group1.index, df_group1.ID):\n",
    "    plt.annotate(str(j), xy=(i,j))\n",
    "plt.legend( ['No. of Accidents at each hour'], loc='best', fontsize=13)  \n",
    "plt.savefig('athour.png', bbox_inches='tight')"
   ]
  },
  {
   "cell_type": "code",
   "execution_count": 65,
   "metadata": {},
   "outputs": [
    {
     "data": {
      "image/png": "[encoded data removed]",
      "text/plain": [
       "<Figure size 864x864 with 2 Axes>"
      ]
     },
     "metadata": {
      "needs_background": "light"
     },
     "output_type": "display_data"
    }
   ],
   "source": [
    "import seaborn as sns\n",
    "fig, ax = plt.subplots(figsize=(12,12))\n",
    "ax = sns.heatmap(df[['Severity','Distance(mi)',\n",
    "       'Temperature(F)','Wind_Chill(F)','Visibility(mi)', 'Wind_Speed(mph)',\n",
    "       'Precipitation(in)','Crossing',\n",
    "       'Junction',\n",
    "       'Traffic_Signal',\n",
    "       'Sunrise_Sunset','Station', 'Time', 'Delay(hrs)']].corr(), \n",
    "                 vmin=-1, vmax=1, annot=True,\n",
    "                linewidth = 3, cmap = 'YlGn')\n"
   ]
  },
  {
   "cell_type": "markdown",
   "metadata": {},
   "source": [
    "Let's visualize how different weather conditions affect the severity of the accident."
   ]
  },
  {
   "cell_type": "code",
   "execution_count": 66,
   "metadata": {},
   "outputs": [
    {
     "data": {
      "image/png": "[encoded data removed]",
      "text/plain": [
       "<Figure size 432x288 with 1 Axes>"
      ]
     },
     "metadata": {
      "needs_background": "light"
     },
     "output_type": "display_data"
    }
   ],
   "source": [
    "# Let's use temperature as a feature\n",
    "sns.boxplot(data=df, y= 'Temperature(F)', x = 'Severity')\n",
    "df[['Severity', 'Temperature(F)']].groupby('Severity').mean()\n",
    "plt.savefig('box1.png', bbox_inches='tight')"
   ]
  },
  {
   "cell_type": "code",
   "execution_count": 68,
   "metadata": {},
   "outputs": [
    {
     "data": {
      "text/html": [
       "<div>\n",
       "<style scoped>\n",
       "    .dataframe tbody tr th:only-of-type {\n",
       "        vertical-align: middle;\n",
       "    }\n",
       "\n",
       "    .dataframe tbody tr th {\n",
       "        vertical-align: top;\n",
       "    }\n",
       "\n",
       "    .dataframe thead th {\n",
       "        text-align: right;\n",
       "    }\n",
       "</style>\n",
       "<table border=\"1\" class=\"dataframe\">\n",
       "  <thead>\n",
       "    <tr style=\"text-align: right;\">\n",
       "      <th></th>\n",
       "      <th>Precipitation(in)</th>\n",
       "    </tr>\n",
       "    <tr>\n",
       "      <th>Severity</th>\n",
       "      <th></th>\n",
       "    </tr>\n",
       "  </thead>\n",
       "  <tbody>\n",
       "    <tr>\n",
       "      <th>1</th>\n",
       "      <td>0.005408</td>\n",
       "    </tr>\n",
       "    <tr>\n",
       "      <th>2</th>\n",
       "      <td>0.006966</td>\n",
       "    </tr>\n",
       "    <tr>\n",
       "      <th>3</th>\n",
       "      <td>0.011394</td>\n",
       "    </tr>\n",
       "    <tr>\n",
       "      <th>4</th>\n",
       "      <td>0.007558</td>\n",
       "    </tr>\n",
       "  </tbody>\n",
       "</table>\n",
       "</div>"
      ],
      "text/plain": [
       "          Precipitation(in)\n",
       "Severity                   \n",
       "1                  0.005408\n",
       "2                  0.006966\n",
       "3                  0.011394\n",
       "4                  0.007558"
      ]
     },
     "execution_count": 68,
     "metadata": {},
     "output_type": "execute_result"
    },
    {
     "data": {
      "image/png": "[encoded data removed]",
      "text/plain": [
       "<Figure size 432x288 with 1 Axes>"
      ]
     },
     "metadata": {
      "needs_background": "light"
     },
     "output_type": "display_data"
    }
   ],
   "source": [
    "# Let's use precipitation as a feature\n",
    "sns.boxplot(data=df, y= 'Precipitation(in)', x = 'Severity')\n",
    "plt.savefig('boxpreci.png', bbox_inches='tight')\n",
    "df[['Severity', 'Precipitation(in)']].groupby('Severity').mean()"
   ]
  },
  {
   "cell_type": "code",
   "execution_count": 69,
   "metadata": {},
   "outputs": [
    {
     "data": {
      "text/html": [
       "<div>\n",
       "<style scoped>\n",
       "    .dataframe tbody tr th:only-of-type {\n",
       "        vertical-align: middle;\n",
       "    }\n",
       "\n",
       "    .dataframe tbody tr th {\n",
       "        vertical-align: top;\n",
       "    }\n",
       "\n",
       "    .dataframe thead th {\n",
       "        text-align: right;\n",
       "    }\n",
       "</style>\n",
       "<table border=\"1\" class=\"dataframe\">\n",
       "  <thead>\n",
       "    <tr style=\"text-align: right;\">\n",
       "      <th></th>\n",
       "      <th>Visibility(mi)</th>\n",
       "    </tr>\n",
       "    <tr>\n",
       "      <th>Severity</th>\n",
       "      <th></th>\n",
       "    </tr>\n",
       "  </thead>\n",
       "  <tbody>\n",
       "    <tr>\n",
       "      <th>1</th>\n",
       "      <td>9.500240</td>\n",
       "    </tr>\n",
       "    <tr>\n",
       "      <th>2</th>\n",
       "      <td>8.880002</td>\n",
       "    </tr>\n",
       "    <tr>\n",
       "      <th>3</th>\n",
       "      <td>8.728982</td>\n",
       "    </tr>\n",
       "    <tr>\n",
       "      <th>4</th>\n",
       "      <td>8.843497</td>\n",
       "    </tr>\n",
       "  </tbody>\n",
       "</table>\n",
       "</div>"
      ],
      "text/plain": [
       "          Visibility(mi)\n",
       "Severity                \n",
       "1               9.500240\n",
       "2               8.880002\n",
       "3               8.728982\n",
       "4               8.843497"
      ]
     },
     "execution_count": 69,
     "metadata": {},
     "output_type": "execute_result"
    },
    {
     "data": {
      "image/png": "[encoded data removed]",
      "text/plain": [
       "<Figure size 432x288 with 1 Axes>"
      ]
     },
     "metadata": {
      "needs_background": "light"
     },
     "output_type": "display_data"
    }
   ],
   "source": [
    "# let's see the effect of Visibility\n",
    "sns.boxplot(data=df, y= 'Visibility(mi)', x = 'Severity')\n",
    "plt.savefig('boxpvisi.png', bbox_inches='tight')\n",
    "df[['Severity', 'Visibility(mi)']].groupby('Severity').mean()\n"
   ]
  },
  {
   "cell_type": "code",
   "execution_count": 68,
   "metadata": {},
   "outputs": [
    {
     "data": {
      "text/html": [
       "<div>\n",
       "<style scoped>\n",
       "    .dataframe tbody tr th:only-of-type {\n",
       "        vertical-align: middle;\n",
       "    }\n",
       "\n",
       "    .dataframe tbody tr th {\n",
       "        vertical-align: top;\n",
       "    }\n",
       "\n",
       "    .dataframe thead th {\n",
       "        text-align: right;\n",
       "    }\n",
       "</style>\n",
       "<table border=\"1\" class=\"dataframe\">\n",
       "  <thead>\n",
       "    <tr style=\"text-align: right;\">\n",
       "      <th></th>\n",
       "      <th>Wind_Speed(mph)</th>\n",
       "    </tr>\n",
       "    <tr>\n",
       "      <th>Severity</th>\n",
       "      <th></th>\n",
       "    </tr>\n",
       "  </thead>\n",
       "  <tbody>\n",
       "    <tr>\n",
       "      <th>1</th>\n",
       "      <td>8.338265</td>\n",
       "    </tr>\n",
       "    <tr>\n",
       "      <th>2</th>\n",
       "      <td>7.338537</td>\n",
       "    </tr>\n",
       "    <tr>\n",
       "      <th>3</th>\n",
       "      <td>8.169872</td>\n",
       "    </tr>\n",
       "    <tr>\n",
       "      <th>4</th>\n",
       "      <td>7.945936</td>\n",
       "    </tr>\n",
       "  </tbody>\n",
       "</table>\n",
       "</div>"
      ],
      "text/plain": [
       "          Wind_Speed(mph)\n",
       "Severity                 \n",
       "1                8.338265\n",
       "2                7.338537\n",
       "3                8.169872\n",
       "4                7.945936"
      ]
     },
     "execution_count": 68,
     "metadata": {},
     "output_type": "execute_result"
    },
    {
     "data": {
      "image/png": "[encoded data removed]",
      "text/plain": [
       "<Figure size 432x288 with 1 Axes>"
      ]
     },
     "metadata": {
      "needs_background": "light"
     },
     "output_type": "display_data"
    }
   ],
   "source": [
    "# let's see the effect of Wind speed\n",
    "sns.boxplot(data=df, y= 'Wind_Speed(mph)', x = 'Severity')\n",
    "df[['Severity', 'Wind_Speed(mph)']].groupby('Severity').mean()"
   ]
  },
  {
   "cell_type": "code",
   "execution_count": 70,
   "metadata": {},
   "outputs": [
    {
     "data": {
      "text/html": [
       "<div>\n",
       "<style scoped>\n",
       "    .dataframe tbody tr th:only-of-type {\n",
       "        vertical-align: middle;\n",
       "    }\n",
       "\n",
       "    .dataframe tbody tr th {\n",
       "        vertical-align: top;\n",
       "    }\n",
       "\n",
       "    .dataframe thead th {\n",
       "        text-align: right;\n",
       "    }\n",
       "</style>\n",
       "<table border=\"1\" class=\"dataframe\">\n",
       "  <thead>\n",
       "    <tr style=\"text-align: right;\">\n",
       "      <th></th>\n",
       "      <th>Wind_Chill(F)</th>\n",
       "    </tr>\n",
       "    <tr>\n",
       "      <th>Severity</th>\n",
       "      <th></th>\n",
       "    </tr>\n",
       "  </thead>\n",
       "  <tbody>\n",
       "    <tr>\n",
       "      <th>1</th>\n",
       "      <td>70.144137</td>\n",
       "    </tr>\n",
       "    <tr>\n",
       "      <th>2</th>\n",
       "      <td>59.569060</td>\n",
       "    </tr>\n",
       "    <tr>\n",
       "      <th>3</th>\n",
       "      <td>59.150609</td>\n",
       "    </tr>\n",
       "    <tr>\n",
       "      <th>4</th>\n",
       "      <td>58.066307</td>\n",
       "    </tr>\n",
       "  </tbody>\n",
       "</table>\n",
       "</div>"
      ],
      "text/plain": [
       "          Wind_Chill(F)\n",
       "Severity               \n",
       "1             70.144137\n",
       "2             59.569060\n",
       "3             59.150609\n",
       "4             58.066307"
      ]
     },
     "execution_count": 70,
     "metadata": {},
     "output_type": "execute_result"
    },
    {
     "data": {
      "image/png": "[encoded data removed]",
      "text/plain": [
       "<Figure size 432x288 with 1 Axes>"
      ]
     },
     "metadata": {
      "needs_background": "light"
     },
     "output_type": "display_data"
    }
   ],
   "source": [
    "# let's use wind chill\n",
    "sns.boxplot(data=df, y= 'Wind_Chill(F)', x = 'Severity')\n",
    "plt.savefig('boxwindchi.png', bbox_inches='tight')\n",
    "df[['Severity', 'Wind_Chill(F)']].groupby('Severity').mean()"
   ]
  },
  {
   "cell_type": "markdown",
   "metadata": {},
   "source": [
    "Now that we have identified some of the key features, we will use them to build our model."
   ]
  },
  {
   "cell_type": "code",
   "execution_count": 16,
   "metadata": {},
   "outputs": [],
   "source": [
    "feature_set = ['Temperature(F)',\n",
    "       'Visibility(mi)', 'Wind_Chill(F)','Wind_Speed(mph)',\n",
    "       'Precipitation(in)','Crossing',\n",
    "       'Junction',\n",
    "       'Traffic_Signal',\n",
    "       'Amenity','Railway','Stop','Station', 'Give_Way', 'Day_Name', 'Time']"
   ]
  },
  {
   "cell_type": "code",
   "execution_count": 17,
   "metadata": {},
   "outputs": [
    {
     "data": {
      "text/plain": [
       "(1282849, 15)"
      ]
     },
     "execution_count": 17,
     "metadata": {},
     "output_type": "execute_result"
    }
   ],
   "source": [
    "df_feature = df[feature_set]\n",
    "df_feature.shape"
   ]
  },
  {
   "cell_type": "markdown",
   "metadata": {},
   "source": [
    "We will begin by transforming our data."
   ]
  },
  {
   "cell_type": "code",
   "execution_count": 73,
   "metadata": {},
   "outputs": [
    {
     "data": {
      "text/html": [
       "<div>\n",
       "<style scoped>\n",
       "    .dataframe tbody tr th:only-of-type {\n",
       "        vertical-align: middle;\n",
       "    }\n",
       "\n",
       "    .dataframe tbody tr th {\n",
       "        vertical-align: top;\n",
       "    }\n",
       "\n",
       "    .dataframe thead th {\n",
       "        text-align: right;\n",
       "    }\n",
       "</style>\n",
       "<table border=\"1\" class=\"dataframe\">\n",
       "  <thead>\n",
       "    <tr style=\"text-align: right;\">\n",
       "      <th></th>\n",
       "      <th>Temperature(F)</th>\n",
       "      <th>Visibility(mi)</th>\n",
       "      <th>Wind_Chill(F)</th>\n",
       "      <th>Wind_Speed(mph)</th>\n",
       "      <th>Precipitation(in)</th>\n",
       "      <th>Crossing</th>\n",
       "      <th>Junction</th>\n",
       "      <th>Traffic_Signal</th>\n",
       "      <th>Amenity</th>\n",
       "      <th>Railway</th>\n",
       "      <th>Stop</th>\n",
       "      <th>Station</th>\n",
       "      <th>Give_Way</th>\n",
       "      <th>Day_Name</th>\n",
       "      <th>Time</th>\n",
       "      <th>is_Day</th>\n",
       "      <th>is_Night</th>\n",
       "    </tr>\n",
       "  </thead>\n",
       "  <tbody>\n",
       "    <tr>\n",
       "      <th>5</th>\n",
       "      <td>37.9</td>\n",
       "      <td>7.0</td>\n",
       "      <td>35.5</td>\n",
       "      <td>3.5</td>\n",
       "      <td>0.03</td>\n",
       "      <td>0</td>\n",
       "      <td>0</td>\n",
       "      <td>0</td>\n",
       "      <td>0</td>\n",
       "      <td>0</td>\n",
       "      <td>0</td>\n",
       "      <td>0</td>\n",
       "      <td>0</td>\n",
       "      <td>Monday</td>\n",
       "      <td>7</td>\n",
       "      <td>1</td>\n",
       "      <td>0</td>\n",
       "    </tr>\n",
       "    <tr>\n",
       "      <th>9</th>\n",
       "      <td>37.4</td>\n",
       "      <td>3.0</td>\n",
       "      <td>33.8</td>\n",
       "      <td>4.6</td>\n",
       "      <td>0.02</td>\n",
       "      <td>0</td>\n",
       "      <td>0</td>\n",
       "      <td>0</td>\n",
       "      <td>0</td>\n",
       "      <td>0</td>\n",
       "      <td>0</td>\n",
       "      <td>0</td>\n",
       "      <td>0</td>\n",
       "      <td>Monday</td>\n",
       "      <td>8</td>\n",
       "      <td>1</td>\n",
       "      <td>0</td>\n",
       "    </tr>\n",
       "    <tr>\n",
       "      <th>11</th>\n",
       "      <td>37.4</td>\n",
       "      <td>3.0</td>\n",
       "      <td>33.8</td>\n",
       "      <td>4.6</td>\n",
       "      <td>0.02</td>\n",
       "      <td>0</td>\n",
       "      <td>1</td>\n",
       "      <td>0</td>\n",
       "      <td>0</td>\n",
       "      <td>0</td>\n",
       "      <td>0</td>\n",
       "      <td>0</td>\n",
       "      <td>0</td>\n",
       "      <td>Monday</td>\n",
       "      <td>8</td>\n",
       "      <td>1</td>\n",
       "      <td>0</td>\n",
       "    </tr>\n",
       "    <tr>\n",
       "      <th>14</th>\n",
       "      <td>37.4</td>\n",
       "      <td>3.0</td>\n",
       "      <td>33.8</td>\n",
       "      <td>4.6</td>\n",
       "      <td>0.02</td>\n",
       "      <td>0</td>\n",
       "      <td>0</td>\n",
       "      <td>1</td>\n",
       "      <td>0</td>\n",
       "      <td>0</td>\n",
       "      <td>0</td>\n",
       "      <td>0</td>\n",
       "      <td>0</td>\n",
       "      <td>Monday</td>\n",
       "      <td>8</td>\n",
       "      <td>1</td>\n",
       "      <td>0</td>\n",
       "    </tr>\n",
       "    <tr>\n",
       "      <th>20</th>\n",
       "      <td>33.8</td>\n",
       "      <td>2.0</td>\n",
       "      <td>29.6</td>\n",
       "      <td>4.6</td>\n",
       "      <td>0.01</td>\n",
       "      <td>0</td>\n",
       "      <td>0</td>\n",
       "      <td>0</td>\n",
       "      <td>0</td>\n",
       "      <td>0</td>\n",
       "      <td>0</td>\n",
       "      <td>0</td>\n",
       "      <td>0</td>\n",
       "      <td>Monday</td>\n",
       "      <td>10</td>\n",
       "      <td>1</td>\n",
       "      <td>0</td>\n",
       "    </tr>\n",
       "  </tbody>\n",
       "</table>\n",
       "</div>"
      ],
      "text/plain": [
       "    Temperature(F)  Visibility(mi)  Wind_Chill(F)  Wind_Speed(mph)  \\\n",
       "5             37.9             7.0           35.5              3.5   \n",
       "9             37.4             3.0           33.8              4.6   \n",
       "11            37.4             3.0           33.8              4.6   \n",
       "14            37.4             3.0           33.8              4.6   \n",
       "20            33.8             2.0           29.6              4.6   \n",
       "\n",
       "    Precipitation(in)  Crossing  Junction  Traffic_Signal  Amenity  Railway  \\\n",
       "5                0.03         0         0               0        0        0   \n",
       "9                0.02         0         0               0        0        0   \n",
       "11               0.02         0         1               0        0        0   \n",
       "14               0.02         0         0               1        0        0   \n",
       "20               0.01         0         0               0        0        0   \n",
       "\n",
       "    Stop  Station  Give_Way Day_Name  Time  is_Day  is_Night  \n",
       "5      0        0         0   Monday     7       1         0  \n",
       "9      0        0         0   Monday     8       1         0  \n",
       "11     0        0         0   Monday     8       1         0  \n",
       "14     0        0         0   Monday     8       1         0  \n",
       "20     0        0         0   Monday    10       1         0  "
      ]
     },
     "execution_count": 73,
     "metadata": {},
     "output_type": "execute_result"
    }
   ],
   "source": [
    "# Transforming Sunrise_Sunset\n",
    "daynight = pd.get_dummies(df_feature.Sunrise_Sunset, prefix = 'is')\n",
    "df_feature = pd.concat([df_feature, daynight], axis=1)\n",
    "# now we don't need Sunrise_Sunset column\n",
    "df_feature = df_feature.drop('Sunrise_Sunset', axis=1)\n",
    "df_feature.head()"
   ]
  },
  {
   "cell_type": "code",
   "execution_count": 18,
   "metadata": {},
   "outputs": [
    {
     "data": {
      "text/html": [
       "<div>\n",
       "<style scoped>\n",
       "    .dataframe tbody tr th:only-of-type {\n",
       "        vertical-align: middle;\n",
       "    }\n",
       "\n",
       "    .dataframe tbody tr th {\n",
       "        vertical-align: top;\n",
       "    }\n",
       "\n",
       "    .dataframe thead th {\n",
       "        text-align: right;\n",
       "    }\n",
       "</style>\n",
       "<table border=\"1\" class=\"dataframe\">\n",
       "  <thead>\n",
       "    <tr style=\"text-align: right;\">\n",
       "      <th></th>\n",
       "      <th>Temperature(F)</th>\n",
       "      <th>Visibility(mi)</th>\n",
       "      <th>Wind_Chill(F)</th>\n",
       "      <th>Wind_Speed(mph)</th>\n",
       "      <th>Precipitation(in)</th>\n",
       "      <th>Crossing</th>\n",
       "      <th>Junction</th>\n",
       "      <th>Traffic_Signal</th>\n",
       "      <th>Amenity</th>\n",
       "      <th>Railway</th>\n",
       "      <th>Stop</th>\n",
       "      <th>Station</th>\n",
       "      <th>Give_Way</th>\n",
       "      <th>Day_Name</th>\n",
       "      <th>Time</th>\n",
       "    </tr>\n",
       "  </thead>\n",
       "  <tbody>\n",
       "    <tr>\n",
       "      <th>5</th>\n",
       "      <td>37.9</td>\n",
       "      <td>7.0</td>\n",
       "      <td>35.5</td>\n",
       "      <td>3.5</td>\n",
       "      <td>0.03</td>\n",
       "      <td>0</td>\n",
       "      <td>0</td>\n",
       "      <td>0</td>\n",
       "      <td>0</td>\n",
       "      <td>0</td>\n",
       "      <td>0</td>\n",
       "      <td>0</td>\n",
       "      <td>0</td>\n",
       "      <td>Monday</td>\n",
       "      <td>7</td>\n",
       "    </tr>\n",
       "    <tr>\n",
       "      <th>9</th>\n",
       "      <td>37.4</td>\n",
       "      <td>3.0</td>\n",
       "      <td>33.8</td>\n",
       "      <td>4.6</td>\n",
       "      <td>0.02</td>\n",
       "      <td>0</td>\n",
       "      <td>0</td>\n",
       "      <td>0</td>\n",
       "      <td>0</td>\n",
       "      <td>0</td>\n",
       "      <td>0</td>\n",
       "      <td>0</td>\n",
       "      <td>0</td>\n",
       "      <td>Monday</td>\n",
       "      <td>8</td>\n",
       "    </tr>\n",
       "    <tr>\n",
       "      <th>11</th>\n",
       "      <td>37.4</td>\n",
       "      <td>3.0</td>\n",
       "      <td>33.8</td>\n",
       "      <td>4.6</td>\n",
       "      <td>0.02</td>\n",
       "      <td>0</td>\n",
       "      <td>1</td>\n",
       "      <td>0</td>\n",
       "      <td>0</td>\n",
       "      <td>0</td>\n",
       "      <td>0</td>\n",
       "      <td>0</td>\n",
       "      <td>0</td>\n",
       "      <td>Monday</td>\n",
       "      <td>8</td>\n",
       "    </tr>\n",
       "    <tr>\n",
       "      <th>14</th>\n",
       "      <td>37.4</td>\n",
       "      <td>3.0</td>\n",
       "      <td>33.8</td>\n",
       "      <td>4.6</td>\n",
       "      <td>0.02</td>\n",
       "      <td>0</td>\n",
       "      <td>0</td>\n",
       "      <td>1</td>\n",
       "      <td>0</td>\n",
       "      <td>0</td>\n",
       "      <td>0</td>\n",
       "      <td>0</td>\n",
       "      <td>0</td>\n",
       "      <td>Monday</td>\n",
       "      <td>8</td>\n",
       "    </tr>\n",
       "    <tr>\n",
       "      <th>20</th>\n",
       "      <td>33.8</td>\n",
       "      <td>2.0</td>\n",
       "      <td>29.6</td>\n",
       "      <td>4.6</td>\n",
       "      <td>0.01</td>\n",
       "      <td>0</td>\n",
       "      <td>0</td>\n",
       "      <td>0</td>\n",
       "      <td>0</td>\n",
       "      <td>0</td>\n",
       "      <td>0</td>\n",
       "      <td>0</td>\n",
       "      <td>0</td>\n",
       "      <td>Monday</td>\n",
       "      <td>10</td>\n",
       "    </tr>\n",
       "  </tbody>\n",
       "</table>\n",
       "</div>"
      ],
      "text/plain": [
       "    Temperature(F)  Visibility(mi)  Wind_Chill(F)  Wind_Speed(mph)  \\\n",
       "5             37.9             7.0           35.5              3.5   \n",
       "9             37.4             3.0           33.8              4.6   \n",
       "11            37.4             3.0           33.8              4.6   \n",
       "14            37.4             3.0           33.8              4.6   \n",
       "20            33.8             2.0           29.6              4.6   \n",
       "\n",
       "    Precipitation(in)  Crossing  Junction  Traffic_Signal  Amenity  Railway  \\\n",
       "5                0.03         0         0               0        0        0   \n",
       "9                0.02         0         0               0        0        0   \n",
       "11               0.02         0         1               0        0        0   \n",
       "14               0.02         0         0               1        0        0   \n",
       "20               0.01         0         0               0        0        0   \n",
       "\n",
       "    Stop  Station  Give_Way Day_Name  Time  \n",
       "5      0        0         0   Monday     7  \n",
       "9      0        0         0   Monday     8  \n",
       "11     0        0         0   Monday     8  \n",
       "14     0        0         0   Monday     8  \n",
       "20     0        0         0   Monday    10  "
      ]
     },
     "execution_count": 18,
     "metadata": {},
     "output_type": "execute_result"
    }
   ],
   "source": [
    "# we label the boolean values for traffic objects\n",
    "from sklearn.preprocessing import LabelEncoder\n",
    "\n",
    "le = LabelEncoder()\n",
    "df_feature[['Crossing',\n",
    "       'Junction',\n",
    "       'Traffic_Signal', 'Amenity','Railway','Stop','Station', 'Give_Way']].apply(le.fit_transform)\n",
    "df_feature.head()"
   ]
  },
  {
   "cell_type": "code",
   "execution_count": 19,
   "metadata": {},
   "outputs": [
    {
     "name": "stderr",
     "output_type": "stream",
     "text": [
      "C:\\Users\\shambhu\\anaconda3\\lib\\site-packages\\pandas\\core\\generic.py:5303: SettingWithCopyWarning: \n",
      "A value is trying to be set on a copy of a slice from a DataFrame.\n",
      "Try using .loc[row_indexer,col_indexer] = value instead\n",
      "\n",
      "See the caveats in the documentation: https://pandas.pydata.org/pandas-docs/stable/user_guide/indexing.html#returning-a-view-versus-a-copy\n",
      "  self[name] = value\n"
     ]
    },
    {
     "data": {
      "text/html": [
       "<div>\n",
       "<style scoped>\n",
       "    .dataframe tbody tr th:only-of-type {\n",
       "        vertical-align: middle;\n",
       "    }\n",
       "\n",
       "    .dataframe tbody tr th {\n",
       "        vertical-align: top;\n",
       "    }\n",
       "\n",
       "    .dataframe thead th {\n",
       "        text-align: right;\n",
       "    }\n",
       "</style>\n",
       "<table border=\"1\" class=\"dataframe\">\n",
       "  <thead>\n",
       "    <tr style=\"text-align: right;\">\n",
       "      <th></th>\n",
       "      <th>Temperature(F)</th>\n",
       "      <th>Visibility(mi)</th>\n",
       "      <th>Wind_Chill(F)</th>\n",
       "      <th>Wind_Speed(mph)</th>\n",
       "      <th>Precipitation(in)</th>\n",
       "      <th>Crossing</th>\n",
       "      <th>Junction</th>\n",
       "      <th>Traffic_Signal</th>\n",
       "      <th>Amenity</th>\n",
       "      <th>Railway</th>\n",
       "      <th>Stop</th>\n",
       "      <th>Station</th>\n",
       "      <th>Give_Way</th>\n",
       "      <th>Day_Name</th>\n",
       "      <th>Time</th>\n",
       "    </tr>\n",
       "  </thead>\n",
       "  <tbody>\n",
       "    <tr>\n",
       "      <th>5</th>\n",
       "      <td>37.9</td>\n",
       "      <td>7.0</td>\n",
       "      <td>35.5</td>\n",
       "      <td>3.5</td>\n",
       "      <td>0.03</td>\n",
       "      <td>0</td>\n",
       "      <td>0</td>\n",
       "      <td>0</td>\n",
       "      <td>0</td>\n",
       "      <td>0</td>\n",
       "      <td>0</td>\n",
       "      <td>0</td>\n",
       "      <td>0</td>\n",
       "      <td>1</td>\n",
       "      <td>7</td>\n",
       "    </tr>\n",
       "    <tr>\n",
       "      <th>9</th>\n",
       "      <td>37.4</td>\n",
       "      <td>3.0</td>\n",
       "      <td>33.8</td>\n",
       "      <td>4.6</td>\n",
       "      <td>0.02</td>\n",
       "      <td>0</td>\n",
       "      <td>0</td>\n",
       "      <td>0</td>\n",
       "      <td>0</td>\n",
       "      <td>0</td>\n",
       "      <td>0</td>\n",
       "      <td>0</td>\n",
       "      <td>0</td>\n",
       "      <td>1</td>\n",
       "      <td>8</td>\n",
       "    </tr>\n",
       "    <tr>\n",
       "      <th>11</th>\n",
       "      <td>37.4</td>\n",
       "      <td>3.0</td>\n",
       "      <td>33.8</td>\n",
       "      <td>4.6</td>\n",
       "      <td>0.02</td>\n",
       "      <td>0</td>\n",
       "      <td>1</td>\n",
       "      <td>0</td>\n",
       "      <td>0</td>\n",
       "      <td>0</td>\n",
       "      <td>0</td>\n",
       "      <td>0</td>\n",
       "      <td>0</td>\n",
       "      <td>1</td>\n",
       "      <td>8</td>\n",
       "    </tr>\n",
       "    <tr>\n",
       "      <th>14</th>\n",
       "      <td>37.4</td>\n",
       "      <td>3.0</td>\n",
       "      <td>33.8</td>\n",
       "      <td>4.6</td>\n",
       "      <td>0.02</td>\n",
       "      <td>0</td>\n",
       "      <td>0</td>\n",
       "      <td>1</td>\n",
       "      <td>0</td>\n",
       "      <td>0</td>\n",
       "      <td>0</td>\n",
       "      <td>0</td>\n",
       "      <td>0</td>\n",
       "      <td>1</td>\n",
       "      <td>8</td>\n",
       "    </tr>\n",
       "    <tr>\n",
       "      <th>20</th>\n",
       "      <td>33.8</td>\n",
       "      <td>2.0</td>\n",
       "      <td>29.6</td>\n",
       "      <td>4.6</td>\n",
       "      <td>0.01</td>\n",
       "      <td>0</td>\n",
       "      <td>0</td>\n",
       "      <td>0</td>\n",
       "      <td>0</td>\n",
       "      <td>0</td>\n",
       "      <td>0</td>\n",
       "      <td>0</td>\n",
       "      <td>0</td>\n",
       "      <td>1</td>\n",
       "      <td>10</td>\n",
       "    </tr>\n",
       "  </tbody>\n",
       "</table>\n",
       "</div>"
      ],
      "text/plain": [
       "    Temperature(F)  Visibility(mi)  Wind_Chill(F)  Wind_Speed(mph)  \\\n",
       "5             37.9             7.0           35.5              3.5   \n",
       "9             37.4             3.0           33.8              4.6   \n",
       "11            37.4             3.0           33.8              4.6   \n",
       "14            37.4             3.0           33.8              4.6   \n",
       "20            33.8             2.0           29.6              4.6   \n",
       "\n",
       "    Precipitation(in)  Crossing  Junction  Traffic_Signal  Amenity  Railway  \\\n",
       "5                0.03         0         0               0        0        0   \n",
       "9                0.02         0         0               0        0        0   \n",
       "11               0.02         0         1               0        0        0   \n",
       "14               0.02         0         0               1        0        0   \n",
       "20               0.01         0         0               0        0        0   \n",
       "\n",
       "    Stop  Station  Give_Way  Day_Name  Time  \n",
       "5      0        0         0         1     7  \n",
       "9      0        0         0         1     8  \n",
       "11     0        0         0         1     8  \n",
       "14     0        0         0         1     8  \n",
       "20     0        0         0         1    10  "
      ]
     },
     "execution_count": 19,
     "metadata": {},
     "output_type": "execute_result"
    }
   ],
   "source": [
    "# Let's encode the day name\n",
    "from sklearn.preprocessing import LabelEncoder\n",
    "\n",
    "le = LabelEncoder()\n",
    "df_feature.Day_Name = le.fit_transform(df_feature.Day_Name)\n",
    "df_feature.head()"
   ]
  },
  {
   "cell_type": "markdown",
   "metadata": {},
   "source": [
    "##### Data normalization\n"
   ]
  },
  {
   "cell_type": "code",
   "execution_count": 20,
   "metadata": {
    "scrolled": true
   },
   "outputs": [
    {
     "data": {
      "text/html": [
       "<div>\n",
       "<style scoped>\n",
       "    .dataframe tbody tr th:only-of-type {\n",
       "        vertical-align: middle;\n",
       "    }\n",
       "\n",
       "    .dataframe tbody tr th {\n",
       "        vertical-align: top;\n",
       "    }\n",
       "\n",
       "    .dataframe thead th {\n",
       "        text-align: right;\n",
       "    }\n",
       "</style>\n",
       "<table border=\"1\" class=\"dataframe\">\n",
       "  <thead>\n",
       "    <tr style=\"text-align: right;\">\n",
       "      <th></th>\n",
       "      <th>Temperature</th>\n",
       "      <th>Visibility</th>\n",
       "      <th>Wind_Chill</th>\n",
       "      <th>Wind_Speed</th>\n",
       "      <th>Precipitation</th>\n",
       "      <th>Time</th>\n",
       "      <th>Day_Name</th>\n",
       "    </tr>\n",
       "  </thead>\n",
       "  <tbody>\n",
       "    <tr>\n",
       "      <th>0</th>\n",
       "      <td>-1.232530</td>\n",
       "      <td>-0.627549</td>\n",
       "      <td>-1.139136</td>\n",
       "      <td>-0.734263</td>\n",
       "      <td>0.233503</td>\n",
       "      <td>-0.986504</td>\n",
       "      <td>-0.951381</td>\n",
       "    </tr>\n",
       "    <tr>\n",
       "      <th>1</th>\n",
       "      <td>-1.259111</td>\n",
       "      <td>-1.980184</td>\n",
       "      <td>-1.219378</td>\n",
       "      <td>-0.536007</td>\n",
       "      <td>0.127393</td>\n",
       "      <td>-0.793809</td>\n",
       "      <td>-0.951381</td>\n",
       "    </tr>\n",
       "    <tr>\n",
       "      <th>2</th>\n",
       "      <td>-1.259111</td>\n",
       "      <td>-1.980184</td>\n",
       "      <td>-1.219378</td>\n",
       "      <td>-0.536007</td>\n",
       "      <td>0.127393</td>\n",
       "      <td>-0.793809</td>\n",
       "      <td>-0.951381</td>\n",
       "    </tr>\n",
       "    <tr>\n",
       "      <th>3</th>\n",
       "      <td>-1.259111</td>\n",
       "      <td>-1.980184</td>\n",
       "      <td>-1.219378</td>\n",
       "      <td>-0.536007</td>\n",
       "      <td>0.127393</td>\n",
       "      <td>-0.793809</td>\n",
       "      <td>-0.951381</td>\n",
       "    </tr>\n",
       "    <tr>\n",
       "      <th>4</th>\n",
       "      <td>-1.450493</td>\n",
       "      <td>-2.318342</td>\n",
       "      <td>-1.417624</td>\n",
       "      <td>-0.536007</td>\n",
       "      <td>0.021283</td>\n",
       "      <td>-0.408418</td>\n",
       "      <td>-0.951381</td>\n",
       "    </tr>\n",
       "  </tbody>\n",
       "</table>\n",
       "</div>"
      ],
      "text/plain": [
       "   Temperature  Visibility  Wind_Chill  Wind_Speed  Precipitation      Time  \\\n",
       "0    -1.232530   -0.627549   -1.139136   -0.734263       0.233503 -0.986504   \n",
       "1    -1.259111   -1.980184   -1.219378   -0.536007       0.127393 -0.793809   \n",
       "2    -1.259111   -1.980184   -1.219378   -0.536007       0.127393 -0.793809   \n",
       "3    -1.259111   -1.980184   -1.219378   -0.536007       0.127393 -0.793809   \n",
       "4    -1.450493   -2.318342   -1.417624   -0.536007       0.021283 -0.408418   \n",
       "\n",
       "   Day_Name  \n",
       "0 -0.951381  \n",
       "1 -0.951381  \n",
       "2 -0.951381  \n",
       "3 -0.951381  \n",
       "4 -0.951381  "
      ]
     },
     "execution_count": 20,
     "metadata": {},
     "output_type": "execute_result"
    }
   ],
   "source": [
    "from sklearn.preprocessing import StandardScaler\n",
    "X = df_feature[['Temperature(F)',\n",
    "       'Visibility(mi)', 'Wind_Chill(F)','Wind_Speed(mph)',\n",
    "       'Precipitation(in)', 'Time', 'Day_Name']].values\n",
    "X = StandardScaler().fit(X).transform(X.astype(float))\n",
    "X_df = pd.DataFrame(X)\n",
    "X_df = X_df.rename({0:'Temperature', 1:'Visibility', 2:'Wind_Chill', 3:'Wind_Speed', 4:'Precipitation', 5:'Time', 6:'Day_Name'}, axis=1)\n",
    "X_df.head()"
   ]
  },
  {
   "cell_type": "code",
   "execution_count": 21,
   "metadata": {},
   "outputs": [
    {
     "data": {
      "text/html": [
       "<div>\n",
       "<style scoped>\n",
       "    .dataframe tbody tr th:only-of-type {\n",
       "        vertical-align: middle;\n",
       "    }\n",
       "\n",
       "    .dataframe tbody tr th {\n",
       "        vertical-align: top;\n",
       "    }\n",
       "\n",
       "    .dataframe thead th {\n",
       "        text-align: right;\n",
       "    }\n",
       "</style>\n",
       "<table border=\"1\" class=\"dataframe\">\n",
       "  <thead>\n",
       "    <tr style=\"text-align: right;\">\n",
       "      <th></th>\n",
       "      <th>Crossing</th>\n",
       "      <th>Junction</th>\n",
       "      <th>Traffic_Signal</th>\n",
       "      <th>Amenity</th>\n",
       "      <th>Railway</th>\n",
       "      <th>Stop</th>\n",
       "      <th>Station</th>\n",
       "      <th>Give_Way</th>\n",
       "      <th>Temperature</th>\n",
       "      <th>Visibility</th>\n",
       "      <th>Wind_Chill</th>\n",
       "      <th>Wind_Speed</th>\n",
       "      <th>Precipitation</th>\n",
       "      <th>Time</th>\n",
       "      <th>Day_Name</th>\n",
       "      <th>Severity</th>\n",
       "    </tr>\n",
       "  </thead>\n",
       "  <tbody>\n",
       "    <tr>\n",
       "      <th>5</th>\n",
       "      <td>0</td>\n",
       "      <td>0</td>\n",
       "      <td>0</td>\n",
       "      <td>0</td>\n",
       "      <td>0</td>\n",
       "      <td>0</td>\n",
       "      <td>0</td>\n",
       "      <td>0</td>\n",
       "      <td>-1.381383</td>\n",
       "      <td>-0.965707</td>\n",
       "      <td>-1.464825</td>\n",
       "      <td>0.094808</td>\n",
       "      <td>0.127393</td>\n",
       "      <td>-0.215723</td>\n",
       "      <td>-0.951381</td>\n",
       "      <td>3</td>\n",
       "    </tr>\n",
       "    <tr>\n",
       "      <th>9</th>\n",
       "      <td>0</td>\n",
       "      <td>0</td>\n",
       "      <td>0</td>\n",
       "      <td>0</td>\n",
       "      <td>0</td>\n",
       "      <td>0</td>\n",
       "      <td>0</td>\n",
       "      <td>0</td>\n",
       "      <td>-1.126207</td>\n",
       "      <td>0.386927</td>\n",
       "      <td>-1.261859</td>\n",
       "      <td>0.707599</td>\n",
       "      <td>-0.084827</td>\n",
       "      <td>0.362362</td>\n",
       "      <td>-0.951381</td>\n",
       "      <td>3</td>\n",
       "    </tr>\n",
       "    <tr>\n",
       "      <th>11</th>\n",
       "      <td>0</td>\n",
       "      <td>1</td>\n",
       "      <td>0</td>\n",
       "      <td>0</td>\n",
       "      <td>0</td>\n",
       "      <td>0</td>\n",
       "      <td>0</td>\n",
       "      <td>0</td>\n",
       "      <td>-1.429228</td>\n",
       "      <td>0.386927</td>\n",
       "      <td>-1.342102</td>\n",
       "      <td>-0.734263</td>\n",
       "      <td>0.127393</td>\n",
       "      <td>0.940448</td>\n",
       "      <td>-0.951381</td>\n",
       "      <td>3</td>\n",
       "    </tr>\n",
       "    <tr>\n",
       "      <th>14</th>\n",
       "      <td>0</td>\n",
       "      <td>0</td>\n",
       "      <td>1</td>\n",
       "      <td>0</td>\n",
       "      <td>0</td>\n",
       "      <td>0</td>\n",
       "      <td>0</td>\n",
       "      <td>0</td>\n",
       "      <td>-2.035271</td>\n",
       "      <td>-1.642025</td>\n",
       "      <td>-2.271969</td>\n",
       "      <td>0.707599</td>\n",
       "      <td>-0.084827</td>\n",
       "      <td>-1.371894</td>\n",
       "      <td>0.881928</td>\n",
       "      <td>2</td>\n",
       "    </tr>\n",
       "    <tr>\n",
       "      <th>20</th>\n",
       "      <td>0</td>\n",
       "      <td>0</td>\n",
       "      <td>0</td>\n",
       "      <td>0</td>\n",
       "      <td>0</td>\n",
       "      <td>0</td>\n",
       "      <td>0</td>\n",
       "      <td>0</td>\n",
       "      <td>-2.024639</td>\n",
       "      <td>-2.318342</td>\n",
       "      <td>-2.338051</td>\n",
       "      <td>1.338414</td>\n",
       "      <td>-0.084827</td>\n",
       "      <td>-1.179199</td>\n",
       "      <td>0.881928</td>\n",
       "      <td>2</td>\n",
       "    </tr>\n",
       "  </tbody>\n",
       "</table>\n",
       "</div>"
      ],
      "text/plain": [
       "    Crossing  Junction  Traffic_Signal  Amenity  Railway  Stop  Station  \\\n",
       "5          0         0               0        0        0     0        0   \n",
       "9          0         0               0        0        0     0        0   \n",
       "11         0         1               0        0        0     0        0   \n",
       "14         0         0               1        0        0     0        0   \n",
       "20         0         0               0        0        0     0        0   \n",
       "\n",
       "    Give_Way  Temperature  Visibility  Wind_Chill  Wind_Speed  Precipitation  \\\n",
       "5          0    -1.381383   -0.965707   -1.464825    0.094808       0.127393   \n",
       "9          0    -1.126207    0.386927   -1.261859    0.707599      -0.084827   \n",
       "11         0    -1.429228    0.386927   -1.342102   -0.734263       0.127393   \n",
       "14         0    -2.035271   -1.642025   -2.271969    0.707599      -0.084827   \n",
       "20         0    -2.024639   -2.318342   -2.338051    1.338414      -0.084827   \n",
       "\n",
       "        Time  Day_Name  Severity  \n",
       "5  -0.215723 -0.951381         3  \n",
       "9   0.362362 -0.951381         3  \n",
       "11  0.940448 -0.951381         3  \n",
       "14 -1.371894  0.881928         2  \n",
       "20 -1.179199  0.881928         2  "
      ]
     },
     "execution_count": 21,
     "metadata": {},
     "output_type": "execute_result"
    }
   ],
   "source": [
    "# we concat the normalized data into df_feature\n",
    "# But make to drop the columns with the same name to aviod any confusion\n",
    "df_feature = df_feature.drop(['Temperature(F)',\n",
    "       'Visibility(mi)', 'Wind_Chill(F)','Wind_Speed(mph)',\n",
    "       'Precipitation(in)', 'Time', 'Day_Name'], axis = 1)\n",
    "df_feature = pd.merge(left = df_feature, right = X_df, how='left', left_index=True, right_index=True)\n",
    "df_feature['Severity'] = df['Severity']\n",
    "df_feature.head()"
   ]
  },
  {
   "cell_type": "code",
   "execution_count": 22,
   "metadata": {},
   "outputs": [],
   "source": [
    "# making sure there aren't any NAN values\n",
    "df_feature = df_feature.dropna( axis = 0)"
   ]
  },
  {
   "cell_type": "code",
   "execution_count": 23,
   "metadata": {},
   "outputs": [
    {
     "data": {
      "text/plain": [
       "(727652, 16)"
      ]
     },
     "execution_count": 23,
     "metadata": {},
     "output_type": "execute_result"
    }
   ],
   "source": [
    "df_feature.shape"
   ]
  },
  {
   "cell_type": "markdown",
   "metadata": {},
   "source": [
    "Now, our feature set is ready, which has 17 features. We will apply Machine learning classification algorithm to build the model. The model will be build baesed on training data and test data will be used to evaluate the accuracy of the model."
   ]
  },
  {
   "cell_type": "code",
   "execution_count": 24,
   "metadata": {},
   "outputs": [
    {
     "data": {
      "text/plain": [
       "(727652,)"
      ]
     },
     "execution_count": 24,
     "metadata": {},
     "output_type": "execute_result"
    }
   ],
   "source": [
    "# the target variable \n",
    "y = df_feature['Severity']\n",
    "y.shape"
   ]
  },
  {
   "cell_type": "code",
   "execution_count": 25,
   "metadata": {},
   "outputs": [],
   "source": [
    "X_feature = df_feature[['Crossing', 'Junction', 'Traffic_Signal', 'Amenity', 'Railway', 'Stop',\n",
    "       'Station', 'Give_Way', 'Day_Name', 'Time',\n",
    "       'Temperature', 'Visibility', 'Wind_Chill', 'Wind_Speed',\n",
    "       'Precipitation']]"
   ]
  },
  {
   "cell_type": "markdown",
   "metadata": {},
   "source": [
    "##### Splitting data into train and test set"
   ]
  },
  {
   "cell_type": "code",
   "execution_count": 26,
   "metadata": {},
   "outputs": [
    {
     "name": "stdout",
     "output_type": "stream",
     "text": [
      "Train set:  (582121, 15) (582121,)\n"
     ]
    }
   ],
   "source": [
    "from sklearn.model_selection import train_test_split\n",
    "X_train, X_test, y_train, y_test = train_test_split(X_feature, y, test_size=0.2, random_state =4)\n",
    "\n",
    "print('Train set: ', X_train.shape, y_train.shape)"
   ]
  },
  {
   "cell_type": "code",
   "execution_count": 27,
   "metadata": {
    "scrolled": true
   },
   "outputs": [
    {
     "name": "stdout",
     "output_type": "stream",
     "text": [
      "Crossing\n",
      "False    727652\n",
      "Name: Crossing, dtype: int64\n",
      "\n",
      "Junction\n",
      "False    727652\n",
      "Name: Junction, dtype: int64\n",
      "\n",
      "Traffic_Signal\n",
      "False    727652\n",
      "Name: Traffic_Signal, dtype: int64\n",
      "\n",
      "Amenity\n",
      "False    727652\n",
      "Name: Amenity, dtype: int64\n",
      "\n",
      "Railway\n",
      "False    727652\n",
      "Name: Railway, dtype: int64\n",
      "\n",
      "Stop\n",
      "False    727652\n",
      "Name: Stop, dtype: int64\n",
      "\n",
      "Station\n",
      "False    727652\n",
      "Name: Station, dtype: int64\n",
      "\n",
      "Give_Way\n",
      "False    727652\n",
      "Name: Give_Way, dtype: int64\n",
      "\n",
      "Day_Name\n",
      "False    727652\n",
      "Name: Day_Name, dtype: int64\n",
      "\n",
      "Time\n",
      "False    727652\n",
      "Name: Time, dtype: int64\n",
      "\n",
      "Temperature\n",
      "False    727652\n",
      "Name: Temperature, dtype: int64\n",
      "\n",
      "Visibility\n",
      "False    727652\n",
      "Name: Visibility, dtype: int64\n",
      "\n",
      "Wind_Chill\n",
      "False    727652\n",
      "Name: Wind_Chill, dtype: int64\n",
      "\n",
      "Wind_Speed\n",
      "False    727652\n",
      "Name: Wind_Speed, dtype: int64\n",
      "\n",
      "Precipitation\n",
      "False    727652\n",
      "Name: Precipitation, dtype: int64\n",
      "\n"
     ]
    }
   ],
   "source": [
    "# Let's check the overall data one more time\n",
    "missing_data = X_feature.isnull()\n",
    "for column in missing_data.columns.values.tolist():\n",
    "    print(column)\n",
    "    print(missing_data[column].value_counts())\n",
    "    print(\"\")"
   ]
  },
  {
   "cell_type": "code",
   "execution_count": 84,
   "metadata": {
    "collapsed": true
   },
   "outputs": [
    {
     "data": {
      "text/plain": [
       "Crossing            int64\n",
       "Junction            int64\n",
       "Traffic_Signal      int64\n",
       "Amenity             int64\n",
       "Railway             int64\n",
       "Stop                int64\n",
       "Station             int64\n",
       "Give_Way            int64\n",
       "Day_Name            int32\n",
       "Time                int64\n",
       "is_Day              uint8\n",
       "is_Night            uint8\n",
       "Temperature       float64\n",
       "Visibility        float64\n",
       "Wind_Chill        float64\n",
       "Wind_Speed        float64\n",
       "Precipitation     float64\n",
       "dtype: object"
      ]
     },
     "execution_count": 84,
     "metadata": {},
     "output_type": "execute_result"
    }
   ],
   "source": [
    "# What about the data types\n",
    "X_feature.dtypes"
   ]
  },
  {
   "cell_type": "markdown",
   "metadata": {},
   "source": [
    "#### First we apply K Nearest Neighbor (KNN) algorithm"
   ]
  },
  {
   "cell_type": "code",
   "execution_count": null,
   "metadata": {},
   "outputs": [
    {
     "name": "stdout",
     "output_type": "stream",
     "text": [
      "Fitting 2 folds for each of 8 candidates, totalling 16 fits\n"
     ]
    },
    {
     "name": "stderr",
     "output_type": "stream",
     "text": [
      "[Parallel(n_jobs=-1)]: Using backend LokyBackend with 8 concurrent workers.\n"
     ]
    }
   ],
   "source": [
    "# importing the necessary library\n",
    "from sklearn.neighbors import KNeighborsClassifier\n",
    "from sklearn.model_selection import GridSearchCV\n",
    "from sklearn.metrics import f1_score, accuracy_score, f1_score, precision_score, recall_score, classification_report, confusion_matrix\n",
    "from sklearn import metrics\n",
    "\n",
    "# create an instance\n",
    "knn = KNeighborsClassifier()\n",
    "\n",
    "# we are going use GridSearchCV to find the best set of parameters\n",
    "# define the hyperparameters\n",
    "\n",
    "params = {'n_neighbors': [5,10],\n",
    "         'weights': ['uniform','distance'],\n",
    "         'algorithm':['auto', 'brute']}\n",
    "\n",
    "grid_knn = GridSearchCV(estimator = knn, param_grid = params,\n",
    "                         scoring = 'accuracy', cv =2,  # cv is number of cross-validation to try for each selected set of hyperparameters\n",
    "                          verbose =1, n_jobs = -1)\n",
    "\n",
    "grid_knn.fit(X_train, y_train)\n",
    "\n",
    "# extract best estimator\n",
    "print(\"The best set of parameters \", grid_knn.best_estimator_)\n",
    "\n",
    "# let's make prediction\n",
    "yhat = grid_knn.predict(X_test)\n",
    "\n",
    "# Let's print out evaluation metrices\n",
    "print(\"Accuracy: \", accuracy_score(yhat, y_test))\n",
    "print(\"F1_score:\", f1_score(yhat, y_test))\n",
    "print(\"Precision:\", precision_score(yhat, y_test))\n",
    "print(\"Recall:\", recall_score(yhat, y_test))"
   ]
  },
  {
   "cell_type": "code",
   "execution_count": null,
   "metadata": {},
   "outputs": [
    {
     "name": "stdout",
     "output_type": "stream",
     "text": [
      "Fitting 2 folds for each of 32 candidates, totalling 64 fits\n"
     ]
    },
    {
     "name": "stderr",
     "output_type": "stream",
     "text": [
      "[Parallel(n_jobs=-1)]: Using backend LokyBackend with 8 concurrent workers.\n"
     ]
    }
   ],
   "source": [
    "# importing the necessary library\n",
    "from sklearn.neighbors import KNeighborsClassifier\n",
    "from sklearn.model_selection import GridSearchCV\n",
    "from sklearn.metrics import f1_score, accuracy_score, f1_score, precision_score, recall_score, classification_report, confusion_matrix\n",
    "from sklearn import metrics\n",
    "\n",
    "# create an instance\n",
    "knn = KNeighborsClassifier()\n",
    "\n",
    "# we are going use GridSearchCV to find the best set of parameters\n",
    "# define the hyperparameters\n",
    "\n",
    "params = {'n_neighbors': [5,10,15,20],\n",
    "         'weights': ['uniform', 'distance'],\n",
    "         'algorithm': ['auto', 'ball_tree', 'kd_tree', 'brute']}\n",
    "\n",
    "grid_knn = GridSearchCV(estimator = knn, param_grid = params,\n",
    "                         scoring = 'accuracy', cv =2,  # cv is number of cross-validation to try for each selected set of hyperparameters\n",
    "                          verbose =1, n_jobs = -1)\n",
    "\n",
    "grid_knn.fit(X_train, y_train)\n",
    "\n",
    "# extract best estimator\n",
    "print(\"The best set of parameters \", grid_knn.best_estimator_)\n",
    "\n",
    "# let's make prediction\n",
    "yhat = grid_knn.predict(X_test)\n",
    "\n",
    "# Let's print out evaluation metrices\n",
    "print(\"Accuracy: \", accuracy_score(yhat, y_test))\n",
    "print(\"F1_score:\", f1_score(yhat, y_test))\n",
    "print(\"Precision:\", precision_score(yhat, y_test))\n",
    "print(\"Recall:\", recall_score(yhat, y_test))\n",
    "\n",
    "\n"
   ]
  },
  {
   "cell_type": "code",
   "execution_count": 207,
   "metadata": {
    "collapsed": true
   },
   "outputs": [
    {
     "data": {
      "text/plain": [
       "(Crossing          False\n",
       " Junction          False\n",
       " Traffic_Signal    False\n",
       " Amenity           False\n",
       " Railway           False\n",
       " Stop              False\n",
       " Station           False\n",
       " Give_Way          False\n",
       " Day_Name          False\n",
       " Time              False\n",
       " is_Day            False\n",
       " is_Night          False\n",
       " Temperature        True\n",
       " Visibility         True\n",
       " Wind_Chill         True\n",
       " Wind_Speed         True\n",
       " Precipitation      True\n",
       " dtype: bool,\n",
       " Crossing          False\n",
       " Junction          False\n",
       " Traffic_Signal    False\n",
       " Amenity           False\n",
       " Railway           False\n",
       " Stop              False\n",
       " Station           False\n",
       " Give_Way          False\n",
       " Day_Name          False\n",
       " Time              False\n",
       " is_Day            False\n",
       " is_Night          False\n",
       " Temperature        True\n",
       " Visibility         True\n",
       " Wind_Chill         True\n",
       " Wind_Speed         True\n",
       " Precipitation      True\n",
       " dtype: bool,\n",
       " False,\n",
       " False)"
      ]
     },
     "execution_count": 207,
     "metadata": {},
     "output_type": "execute_result"
    }
   ],
   "source": [
    "np.isnan(X_train).any(), np.isnan(X_test).any(), np.isnan(y_train).any(), np.isnan(y_test).any()"
   ]
  },
  {
   "cell_type": "code",
   "execution_count": 208,
   "metadata": {
    "collapsed": true
   },
   "outputs": [
    {
     "data": {
      "text/plain": [
       "Crossing          False\n",
       "Junction          False\n",
       "Traffic_Signal    False\n",
       "Amenity           False\n",
       "Railway           False\n",
       "Stop              False\n",
       "Station           False\n",
       "Give_Way          False\n",
       "Day_Name          False\n",
       "Time              False\n",
       "is_Day            False\n",
       "is_Night          False\n",
       "Temperature        True\n",
       "Visibility         True\n",
       "Wind_Chill         True\n",
       "Wind_Speed         True\n",
       "Precipitation      True\n",
       "dtype: bool"
      ]
     },
     "execution_count": 208,
     "metadata": {},
     "output_type": "execute_result"
    }
   ],
   "source": [
    "np.isnan(X_train).any()"
   ]
  },
  {
   "cell_type": "code",
   "execution_count": null,
   "metadata": {},
   "outputs": [],
   "source": []
  }
 ],
 "metadata": {
  "kernelspec": {
   "display_name": "Python 3",
   "language": "python",
   "name": "python3"
  },
  "language_info": {
   "codemirror_mode": {
    "name": "ipython",
    "version": 3
   },
   "file_extension": ".py",
   "mimetype": "text/x-python",
   "name": "python",
   "nbconvert_exporter": "python",
   "pygments_lexer": "ipython3",
   "version": "3.7.6"
  }
 },
 "nbformat": 4,
 "nbformat_minor": 4
}
