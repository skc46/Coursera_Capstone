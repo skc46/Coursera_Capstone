{
 "cells": [
  {
   "cell_type": "markdown",
   "metadata": {},
   "source": [
    "# Car accident severity"
   ]
  },
  {
   "cell_type": "markdown",
   "metadata": {},
   "source": [
    "#### Understanding the problem\n",
    "\n",
    "Road accident is one of the leading causes of death in many developed as well as in developing countires. According to __Centers for Disease Control and Prevention (CDC)__, approximately 1.35 million people are killed each year worldwide on roadways. And, another 50 million people are injured which involves serious damage to their body parts. In addition to causing serious physical damage, the road accidents also cause impact on the traffic; in some cases the accident causes several hours of delay. Long hours of traffic is something that everybody wants to aviod. Hence, reducing the roadways accidents have become an important public safety challenge. While it is not possible to shutdown the whole transportation system to prevent those deaths, since it has direct impact on the economic and social development of any countries. However, the risk can be minimized by taking several preventive actions such as providing more road safety guidelines, improving the road conditions, and imposing new regulations for drivers. In order to take those preventive actions, it is first necessary to understand what is actually causing the problem. Hence the question that we are asking here is \"can we build a model that learns from the historical data and predict the severity of future accidents given the involving the factors?\" From this model, we can learn the impact of different factors on the level of severity. Those factors can be road conditions, weather conditions, daytime, safety status, driving conditions. After we have clear idea of which factor is leading more to severe accidents, we can then lay out several recommendations to minimize those risks. In addition, depending on the severity level, we can also predict how long the traffic is likely to be delayed by that accident. This is very important for those people who are looking to reach to their destination on time. \n"
   ]
  },
  {
   "cell_type": "markdown",
   "metadata": {},
   "source": [
    "#### Understanding the data\n",
    "\n",
    "The data that we are going to utilize for this project is countrywide car accident dataset, which includes the data collected from February 2016 to June 2020 covering 49 states of the USA. This dataset was extracted from __kaggle__ uploaded by **Sobhan Moosavi**. There are about 3.5 million accident records. This dataset includes many intrinsic and contextual attributes such as location, time, level of severity, time taken to clear the traffic, weather conditions including many other information. The important part of this dataset is that it contains the most recent reports of accidents as well. Since, our main focus is on the severity of the accident and how it impacts the traffic, this dataset is ideal to work on.  "
   ]
  },
  {
   "cell_type": "code",
   "execution_count": null,
   "metadata": {},
   "outputs": [],
   "source": []
  }
 ],
 "metadata": {
  "kernelspec": {
   "display_name": "Python 3",
   "language": "python",
   "name": "python3"
  },
  "language_info": {
   "codemirror_mode": {
    "name": "ipython",
    "version": 3
   },
   "file_extension": ".py",
   "mimetype": "text/x-python",
   "name": "python",
   "nbconvert_exporter": "python",
   "pygments_lexer": "ipython3",
   "version": "3.7.6"
  }
 },
 "nbformat": 4,
 "nbformat_minor": 4
}
